{
 "cells": [
  {
   "cell_type": "code",
   "execution_count": 1,
   "id": "eb297901",
   "metadata": {},
   "outputs": [
    {
     "data": {
      "text/html": [
       "<style>.container {width:95% !important; }</style>"
      ],
      "text/plain": [
       "<IPython.core.display.HTML object>"
      ]
     },
     "metadata": {},
     "output_type": "display_data"
    }
   ],
   "source": [
    "# ALWAYS RUN THIS CELL\n",
    "# widen jupyter notebook window\n",
    "from IPython.display import display, HTML\n",
    "display(HTML(\"<style>.container {width:95% !important; }</style>\"))\n"
   ]
  },
  {
   "cell_type": "code",
   "execution_count": 2,
   "id": "47fe1e80",
   "metadata": {},
   "outputs": [
    {
     "name": "stderr",
     "output_type": "stream",
     "text": [
      "/media/rich/OS/Users/Richard/Linux_stuff_on_OS/conda_envs/envs/suite2p/lib/python3.8/site-packages/paramiko/transport.py:236: CryptographyDeprecationWarning: Blowfish has been deprecated\n",
      "  \"class\": algorithms.Blowfish,\n"
     ]
    }
   ],
   "source": [
    "import os\n",
    "from pathlib import Path\n",
    "\n",
    "import paramiko\n",
    "from scp import SCPClient\n",
    "\n",
    "import getpass\n",
    "import gc\n",
    "import time"
   ]
  },
  {
   "cell_type": "code",
   "execution_count": 3,
   "id": "d88b0316",
   "metadata": {},
   "outputs": [],
   "source": [
    "dir_github = '/media/rich/Home_Linux_partition/github_repos/'\n",
    "import sys\n",
    "sys.path.append(dir_github)\n",
    "\n",
    "%load_ext autoreload\n",
    "%autoreload 2\n",
    "from s2p_on_o2 import util"
   ]
  },
  {
   "cell_type": "code",
   "execution_count": 4,
   "id": "165efad2",
   "metadata": {},
   "outputs": [],
   "source": [
    "# paramiko.util.log_to_file(\"paramiko.log\")"
   ]
  },
  {
   "cell_type": "code",
   "execution_count": null,
   "id": "b134ed15",
   "metadata": {},
   "outputs": [],
   "source": []
  },
  {
   "cell_type": "markdown",
   "id": "331c0887",
   "metadata": {},
   "source": [
    "----\n",
    "# ==== Optional ====\n",
    "### transfer raw data from local machine to `MICROSCOPE`"
   ]
  },
  {
   "cell_type": "code",
   "execution_count": 5,
   "id": "f224d773",
   "metadata": {},
   "outputs": [
    {
     "name": "stdout",
     "output_type": "stream",
     "text": [
      "contents of    /media/rich/bigSSD/tmp_data/    will be copied to    /n/files/Neurobio/MICROSCOPE/Rich/data/test\n"
     ]
    }
   ],
   "source": [
    "## Define directories for where the local data is and the remote directory where the contents of that folder should be copied to (MICROSCOPE)\n",
    "dir_data_local = '/media/rich/bigSSD/tmp_data/'\n",
    "dir_data_MICROSCOPE = '/n/files/Neurobio/MICROSCOPE/Rich/data/test'  ## contents of dir_data_local will be dumped into dir_data_MICROSCOPE\n",
    "\n",
    "print(f'contents of    {dir_data_local}    will be copied to    {dir_data_MICROSCOPE}')"
   ]
  },
  {
   "cell_type": "code",
   "execution_count": 6,
   "id": "95e16104",
   "metadata": {},
   "outputs": [
    {
     "name": "stdout",
     "output_type": "stream",
     "text": [
      "Username: rh183\n",
      "Password: ········\n"
     ]
    }
   ],
   "source": [
    "remote_host_transfer = \"transfer.rc.hms.harvard.edu\"\n",
    "remote_host_compute = \"o2.hms.harvard.edu\"\n",
    "username = input('Username: ')\n",
    "pw = util.pw_encode(getpass.getpass(prompt='Password: '))"
   ]
  },
  {
   "cell_type": "markdown",
   "id": "9ce1b538",
   "metadata": {},
   "source": [
    "## Prepare `sftp` and `ssh` objects"
   ]
  },
  {
   "cell_type": "code",
   "execution_count": null,
   "id": "408379d7",
   "metadata": {},
   "outputs": [],
   "source": [
    "sftp = util.sftp_interface(hostname=\"transfer.rc.hms.harvard.edu\", port=22)\n",
    "sftp.connect(username=username, password=util.pw_decode(pw))"
   ]
  },
  {
   "cell_type": "code",
   "execution_count": 30,
   "id": "8e111f47",
   "metadata": {},
   "outputs": [
    {
     "name": "stdout",
     "output_type": "stream",
     "text": [
      "uploading /media/rich/bigSSD/tmp_data/day0_00001_00001.tif   to   /n/files/Neurobio/MICROSCOPE/Rich/data/test/day0_00001_00001.tif\n",
      "uploading /media/rich/bigSSD/tmp_data/day0_00001_00002.tif   to   /n/files/Neurobio/MICROSCOPE/Rich/data/test/day0_00001_00002.tif\n"
     ]
    }
   ],
   "source": [
    "# sftp.mkdir_safe(dir_data_remote)\n",
    "sftp.put_dir(dir_data_local, dir_data_MICROSCOPE)"
   ]
  },
  {
   "cell_type": "code",
   "execution_count": null,
   "id": "ec6fe6dd",
   "metadata": {},
   "outputs": [],
   "source": []
  },
  {
   "cell_type": "markdown",
   "id": "c3209436",
   "metadata": {},
   "source": [
    "------------\n",
    "# ==== Start ===="
   ]
  },
  {
   "cell_type": "markdown",
   "id": "8d2d37a7",
   "metadata": {},
   "source": [
    "## Prepare directories"
   ]
  },
  {
   "cell_type": "code",
   "execution_count": 124,
   "id": "1becad21",
   "metadata": {},
   "outputs": [
    {
     "name": "stdout",
     "output_type": "stream",
     "text": [
      "contents of    /n/files/Neurobio/MICROSCOPE/Ally/Mesoscope/AEG21/2022_05_17    will be copied to    /n/data1/hms/neurobio/sabatini/rich/data/2pRAM/AEG21/2022_05_17\n"
     ]
    }
   ],
   "source": [
    "## Define directories for where the local data is and the remote directory where the contents of that folder should be copied to\n",
    "dir_data_MICROSCOPE = Path(r'/n/files/Neurobio/MICROSCOPE/Ally/Mesoscope/AEG21/2022_05_17').as_posix()\n",
    "dir_data_remote = Path(r'/n/data1/hms/neurobio/sabatini/rich/data/2pRAM/AEG21/2022_05_17').as_posix()  ## contents of dir_data_local will be dumped into dir_data_remote\n",
    "\n",
    "dir_fastDisk_remote = Path(r'/n/data1/hms/neurobio/sabatini/rich/analysis/suite2p_fastDisk/2022_05_17').as_posix()  ## to use for temporary storage\n",
    "\n",
    "\n",
    "dir_S2pOutput_remote = Path(r'/n/data1/hms/neurobio/sabatini/rich/analysis/suite2p_output/AEG21/2022_05_17').as_posix()  ## outer directory. Final outputs will be in an inner directory\n",
    "name_job = 'jobNum_'\n",
    "\n",
    "\n",
    "# path_dispatcher_local = Path(r'C:\\Users\\scanimage\\github_repos\\s2p_on_o2').resolve() / 'dispatcher.py'  ## path to the dispatcher.py file on local computer\n",
    "path_dispatcher_local = Path(r'/media/rich/Home_Linux_partition/github_repos/s2p_on_o2').resolve() / 'dispatcher.py'  ## path to the dispatcher.py file on local computer\n",
    "path_dispatcher_remote = (Path(dir_S2pOutput_remote) / 'dispatcher.py').as_posix()  ## path to where you want the dispatcher.py file to be copied onto the server\n",
    "path_s2pScript_remote = Path(r'/n/data1/hms/neurobio/sabatini/rich/github_repos/s2p_on_o2/remote_run_s2p.py').as_posix()  ## path to a copy of the remote_run_s2p.py file within the s2p_on_o2 repo on the server\n",
    "\n",
    "print(f'contents of    {dir_data_MICROSCOPE}    will be copied to    {dir_data_remote}')"
   ]
  },
  {
   "cell_type": "markdown",
   "id": "d06ccbeb",
   "metadata": {},
   "source": [
    "## Prepare username + password"
   ]
  },
  {
   "cell_type": "code",
   "execution_count": 8,
   "id": "e6c7e60d",
   "metadata": {},
   "outputs": [
    {
     "name": "stdout",
     "output_type": "stream",
     "text": [
      "Username: rh183\n",
      "Password: ········\n"
     ]
    }
   ],
   "source": [
    "remote_host_transfer = \"transfer.rc.hms.harvard.edu\"\n",
    "remote_host_compute = \"o2.hms.harvard.edu\"\n",
    "username = input('Username: ')\n",
    "pw = util.pw_encode(getpass.getpass(prompt='Password: '))"
   ]
  },
  {
   "cell_type": "markdown",
   "id": "c4f4ab4f",
   "metadata": {},
   "source": [
    "## Prepare `sftp` and `ssh` objects"
   ]
  },
  {
   "cell_type": "code",
   "execution_count": 13,
   "id": "6d7ebd57",
   "metadata": {},
   "outputs": [],
   "source": [
    "sftp = util.sftp_interface(hostname=\"transfer.rc.hms.harvard.edu\", port=22)\n",
    "sftp.connect(username=username, password=util.pw_decode(pw))"
   ]
  },
  {
   "cell_type": "code",
   "execution_count": 39,
   "id": "e0066b1a",
   "metadata": {},
   "outputs": [
    {
     "name": "stdout",
     "output_type": "stream",
     "text": [
      "Duo two-factor login for rh183\n",
      "\n",
      "Enter a passcode or select one of the following options:\n",
      "\n",
      " 1. Duo Push to XXX-XXX-4151\n",
      " 2. Phone call to XXX-XXX-4151\n",
      " 3. SMS passcodes to XXX-XXX-4151\n",
      "\n",
      "Passcode or option (1-3): \n",
      "1\n",
      "\n",
      "\n",
      "\n",
      "Pushed a login request to your device...\n",
      "\n",
      "Success. Logging you in...\n",
      "Welcome to O2 (Orchestra 2)!\n",
      "\u001b[32m\n",
      "   ___    ____\n",
      "  / _ \\  |___ \\\n",
      " | | | |   __) |\n",
      " | |_| |  / __/\n",
      "  \\___/  |_____|\n",
      "\n",
      "\u001b[0m\n",
      "You've landed on \u001b[33mtransfer03\u001b[0m which is a\n",
      "\u001b[33m4\u001b[0m core system with \u001b[33m7.62 GiB\u001b[0m memory\n",
      "running kernel \u001b[33m3.10.0\u001b[0m born on \u001b[33m2020-07-31\u001b[0m\n",
      "\n",
      "==== O2 ===================================================================\n",
      "\n",
      "  \u001b[31mNews (Jan 3 2022)\u001b[0m\n",
      "  \u001b[37m\n",
      "\n",
      "  +-------------------------------------------------------------------------------+\n",
      "  | ##################### RC Core launched in July 2021 ######################### |\n",
      "  |                                                                               |\n",
      "  | Since July 2021, researchers whose PI does not have a primary or secondary    |\n",
      "  | faculty appointment in an HMS Basic or Social Science Department will incur   |\n",
      "  | charges to their lab for O2 usage. Details at: it.hms.harvard.edu/rc/core     |\n",
      "  +-------------------------------------------------------------------------------+\n",
      "\n",
      "  ------------------------------\n",
      "  Contact HMS Research Computing:\n",
      "\n",
      "  E-mail      rchelp@hms.harvard.edu\n",
      "  Web         it.hms.harvard.edu/rc\n",
      "  Twitter     @hms_rc\n",
      "\n",
      "===========================================================================\n",
      "\n",
      "\u001b[0m\n",
      "\n",
      "(base) [rh183@transfer03 ~]$ \n"
     ]
    }
   ],
   "source": [
    "## initialize ssh_transfer\n",
    "ssh_t = util.ssh_interface(\n",
    "    nbytes_toReceive=4096,\n",
    "    recv_timeout=1,\n",
    "    verbose=True,\n",
    ")\n",
    "ssh_t.o2_connect(\n",
    "    hostname=remote_host_transfer,\n",
    "    username=username,\n",
    "    password=util.pw_decode(pw),\n",
    "    passcode_method=1,\n",
    "    verbose=1,\n",
    "    skip_passcode=False,    \n",
    ")"
   ]
  },
  {
   "cell_type": "code",
   "execution_count": 14,
   "id": "2cb83955",
   "metadata": {},
   "outputs": [
    {
     "name": "stdout",
     "output_type": "stream",
     "text": [
      "Duo two-factor login for rh183\n",
      "\n",
      "Enter a passcode or select one of the following options:\n",
      "\n",
      " 1. Duo Push to XXX-XXX-4151\n",
      " 2. Phone call to XXX-XXX-4151\n",
      " 3. SMS passcodes to XXX-XXX-4151\n",
      "\n",
      "Passcode or option (1-3): \n",
      "1\n",
      "\n",
      "\n",
      "\n",
      "Pushed a login request to your device...\n",
      "\n",
      "Success. Logging you in...\n",
      "Welcome to O2 (Orchestra 2)!\n",
      "\u001b[32m\n",
      "   ___    ____\n",
      "  / _ \\  |___ \\\n",
      " | | | |   __) |\n",
      " | |_| |  / __/\n",
      "  \\___/  |_____|\n",
      "\n",
      "\u001b[0m\n",
      "You've landed on \u001b[33mlogin06\u001b[0m which is a\n",
      "\u001b[33m8\u001b[0m core system with \u001b[33m15.49 GiB\u001b[0m memory\n",
      "running kernel \u001b[33m3.10.0\u001b[0m born on \u001b[33m2020-07-07\u001b[0m\n",
      "\n",
      "==== O2 ===================================================================\n",
      "\n",
      "  \u001b[31mNews (Jan 3 2022)\u001b[0m\n",
      "  \u001b[37m\n",
      "\n",
      "  +-------------------------------------------------------------------------------+\n",
      "  | ##################### RC Core launched in July 2021 ######################### |\n",
      "  |                                                                               |\n",
      "  | Since July 2021, researchers whose PI does not have a primary or secondary    |\n",
      "  | faculty appointment in an HMS Basic or Social Science Department will incur   |\n",
      "  | charges to their lab for O2 usage. Details at: it.hms.harvard.edu/rc/core     |\n",
      "  +-------------------------------------------------------------------------------+\n",
      "\n",
      "  ------------------------------\n",
      "  Contact HMS Research Computing:\n",
      "\n",
      "  E-mail      rchelp@hms.harvard.edu\n",
      "  Web         it.hms.harvard.edu/rc\n",
      "  Twitter     @hms_rc\n",
      "\n",
      "===========================================================================\n",
      "\n",
      "\u001b[0m\n",
      "\n",
      "(base) [rh183@login06 ~]$ \n"
     ]
    }
   ],
   "source": [
    "## initialize ssh_compute\n",
    "ssh_c = util.ssh_interface(\n",
    "    nbytes_toReceive=4096,\n",
    "    recv_timeout=1,\n",
    "    verbose=True,\n",
    ")\n",
    "ssh_c.o2_connect(\n",
    "    hostname=remote_host_compute,\n",
    "    username=username,\n",
    "    password=util.pw_decode(pw),\n",
    "    passcode_method=1,\n",
    "    verbose=1,\n",
    "    skip_passcode=False,    \n",
    ")"
   ]
  },
  {
   "cell_type": "markdown",
   "id": "3dff0c96",
   "metadata": {},
   "source": [
    "## Prepare commands"
   ]
  },
  {
   "cell_type": "code",
   "execution_count": 125,
   "id": "6640a5dc",
   "metadata": {},
   "outputs": [
    {
     "data": {
      "text/plain": [
       "{'make_dir': 'mkdir -p /n/data1/hms/neurobio/sabatini/rich/data/2pRAM/AEG21/2022_05_17',\n",
       " 'copy_data': 'cp -r /n/files/Neurobio/MICROSCOPE/Ally/Mesoscope/AEG21/2022_05_17/. /n/data1/hms/neurobio/sabatini/rich/data/2pRAM/AEG21/2022_05_17',\n",
       " 'dispatch_s2p': 'python /n/data1/hms/neurobio/sabatini/rich/analysis/suite2p_output/AEG21/2022_05_17/dispatcher.py /n/data1/hms/neurobio/sabatini/rich/analysis/suite2p_output/AEG21/2022_05_17 /n/data1/hms/neurobio/sabatini/rich/github_repos/s2p_on_o2/remote_run_s2p.py jobNum_ /n/data1/hms/neurobio/sabatini/rich/analysis/suite2p_fastDisk/2022_05_17 /n/data1/hms/neurobio/sabatini/rich/data/2pRAM/AEG21/2022_05_17'}"
      ]
     },
     "metadata": {},
     "output_type": "display_data"
    }
   ],
   "source": [
    "## Expectation for dispatch args: \n",
    "# path_selfScript = args[0] = path_dispatcher_remote\n",
    "# dir_save = args[1] = dir_S2pOutput_remote\n",
    "# path_script = args[2] = path_s2pScript_remote\n",
    "# name_job = args[3] = name_job\n",
    "# dir_fastDisk = args[4] = dir_fastDisk_remote\n",
    "# dir_data = args[5] = dir_data_remote\n",
    "\n",
    "\n",
    "prompt_snip = f'[{username}'\n",
    "\n",
    "commands = {\n",
    "    'make_dir': f\"mkdir -p {dir_data_remote}\",\n",
    "    'copy_data': f\"cp -r {dir_data_MICROSCOPE}/. {dir_data_remote}\",\n",
    "    'dispatch_s2p': f\"python {str(path_dispatcher_remote)} {dir_S2pOutput_remote} {path_s2pScript_remote} {name_job} {dir_fastDisk_remote} {dir_data_remote}\"  ## dispatcher expecting these args as inputs\n",
    "}\n",
    "display(commands)"
   ]
  },
  {
   "cell_type": "markdown",
   "id": "cf63f507",
   "metadata": {},
   "source": [
    "## Upload `dispatcher.py` file"
   ]
  },
  {
   "cell_type": "code",
   "execution_count": 126,
   "id": "e81b02e2",
   "metadata": {},
   "outputs": [],
   "source": [
    "sftp.mkdir_safe(Path(path_dispatcher_remote).parent.as_posix(), ignore_existing=True)\n",
    "sftp.sftp.put(str(path_dispatcher_local), str(path_dispatcher_remote));"
   ]
  },
  {
   "cell_type": "markdown",
   "id": "487fc49e",
   "metadata": {},
   "source": [
    "## Copy data from `MICROSCOPE` to `data1`"
   ]
  },
  {
   "cell_type": "code",
   "execution_count": null,
   "id": "350c58e6",
   "metadata": {},
   "outputs": [],
   "source": [
    "ssh_t.send_receive(commands['make_dir']);\n",
    "\n",
    "ssh_t.send(commands['copy_data'])"
   ]
  },
  {
   "cell_type": "code",
   "execution_count": null,
   "id": "c097c12c",
   "metadata": {},
   "outputs": [],
   "source": [
    "ssh_t.expect(str_success=f'[{username}', recv_timeout=0.3, total_timeout=120, sleep_time=0.1, verbose=True);"
   ]
  },
  {
   "cell_type": "markdown",
   "id": "db9d021f",
   "metadata": {},
   "source": [
    "## Dispatch `remote_run_s2p.py`"
   ]
  },
  {
   "cell_type": "code",
   "execution_count": null,
   "id": "2a67e59d",
   "metadata": {},
   "outputs": [],
   "source": [
    "ssh_c.send(commands['dispatch_s2p']);\n",
    "\n",
    "ssh_c.expect(str_success=prompt_snip);"
   ]
  },
  {
   "cell_type": "markdown",
   "id": "6c398a7c",
   "metadata": {},
   "source": [
    "### check on job"
   ]
  },
  {
   "cell_type": "code",
   "execution_count": 121,
   "id": "2425ed3f",
   "metadata": {
    "scrolled": true
   },
   "outputs": [
    {
     "name": "stdout",
     "output_type": "stream",
     "text": [
      "squeue -u rh183 --Format=jobid,name,partition,state,ti \r",
      "meused,starttime,timelimit,reasonlist,minmemory,mincpus,gres\r\n",
      "JOBID               NAME                PARTITION           STATE               TIME                START_TIME          TIME_LIMIT          NODELIST(REASON)    MIN_MEMORY          MIN_CPUS            TRES_PER_NODE       \r\n",
      "53479879            suite2p             short               PENDING             0:00                N/A                 6:00:00             (Priority)          150G                20                  N/A                 \r\n",
      "53478732            suite2p             short               RUNNING             14:37               2022-05-18T14:39:55 6:00:00             compute-h-17-53     150G                20                  N/A                 \r\n",
      "(base) [rh183@login06 ~]$ \n"
     ]
    }
   ],
   "source": [
    "ssh_c.send(cmd=f'squeue -u {username} --Format=jobid,name,partition,state,timeused,starttime,timelimit,reasonlist,minmemory,mincpus,gres');\n",
    "ssh_c.expect(str_success=f\"[{username}\", total_timeout=1);"
   ]
  },
  {
   "cell_type": "code",
   "execution_count": 123,
   "id": "6787c488",
   "metadata": {},
   "outputs": [
    {
     "name": "stdout",
     "output_type": "stream",
     "text": [
      "cat /n/data1/hms/neurobio/sabatini/rich/analysis/suite \r",
      "2p_output/AEG21/2022_05_16/jobNum_0/print*\r\n",
      "cat: /n/data1/hms/neurobio/sabatini/rich/analysis/suite2p_output/AEG21/2022_05_16/jobNum_0/print*: No such file or directory\r\n",
      "(base) [rh183@login06 ~]$ \n"
     ]
    }
   ],
   "source": [
    "ssh_c.send(cmd=f\"cat {(Path(dir_S2pOutput_remote) / (name_job+'0') / 'print*').as_posix()}\")\n",
    "ssh_c.expect(str_success=f\"[{username}\", total_timeout=1);"
   ]
  },
  {
   "cell_type": "code",
   "execution_count": 27,
   "id": "feb35f6e",
   "metadata": {
    "scrolled": true
   },
   "outputs": [
    {
     "name": "stdout",
     "output_type": "stream",
     "text": [
      "RUN COMPLETE!!!     Tue May 17 14:52:20 2022\n"
     ]
    }
   ],
   "source": [
    "flag_COMPLETE=False\n",
    "while flag_COMPLETE==False:\n",
    "    ssh_c.send(cmd=f\"cat {(Path(dir_S2pOutput_remote) / (name_job+'0') / 'print*').as_posix()}\")\n",
    "    flag_COMPLETE = ssh_c.expect(str_success=f\"RUN COMPLETE\", total_timeout=1, verbose=False)[1]\n",
    "    time.sleep(1)\n",
    "\n",
    "print(f'RUN COMPLETE!!!     {time.ctime()}')"
   ]
  },
  {
   "cell_type": "markdown",
   "id": "c4a619ef",
   "metadata": {},
   "source": [
    "## Clean up"
   ]
  },
  {
   "cell_type": "code",
   "execution_count": null,
   "id": "d48f1d12",
   "metadata": {},
   "outputs": [],
   "source": [
    "## delete password\n",
    "del pw\n",
    "gc.collect()\n",
    "\n",
    "## close sftp\n",
    "if sftp: sftp.close()\n",
    "if transport: transport.close()\n",
    "del sftp\n",
    "del transport\n",
    "    \n",
    "## close ssh\n",
    "ssh_t.close()\n",
    "del ssh_t\n",
    "ssh_c.close()\n",
    "del ssh_c\n",
    "gc.collect()"
   ]
  },
  {
   "cell_type": "code",
   "execution_count": null,
   "id": "cbdfac15",
   "metadata": {},
   "outputs": [],
   "source": []
  },
  {
   "cell_type": "markdown",
   "id": "92caef65",
   "metadata": {},
   "source": [
    "----\n",
    "# ==== Optional ====\n",
    "### transfer s2p outputs back from `data1` to `MICROSCOPE`"
   ]
  },
  {
   "cell_type": "markdown",
   "id": "6ad2e0a8",
   "metadata": {},
   "source": [
    "## Prepare username + password"
   ]
  },
  {
   "cell_type": "code",
   "execution_count": 5,
   "id": "9b779011",
   "metadata": {},
   "outputs": [
    {
     "name": "stdout",
     "output_type": "stream",
     "text": [
      "Username: rh183\n",
      "Password: ········\n"
     ]
    }
   ],
   "source": [
    "remote_host_transfer = \"transfer.rc.hms.harvard.edu\"\n",
    "remote_host_compute = \"o2.hms.harvard.edu\"\n",
    "username = input('Username: ')\n",
    "pw = util.pw_encode(getpass.getpass(prompt='Password: '))"
   ]
  },
  {
   "cell_type": "markdown",
   "id": "20c14b6b",
   "metadata": {},
   "source": [
    "## Prepare `ssh` object"
   ]
  },
  {
   "cell_type": "code",
   "execution_count": 6,
   "id": "6730d266",
   "metadata": {},
   "outputs": [
    {
     "name": "stdout",
     "output_type": "stream",
     "text": [
      "Duo two-factor login for rh183\n",
      "\n",
      "Enter a passcode or select one of the following options:\n",
      "\n",
      " 1. Duo Push to XXX-XXX-4151\n",
      " 2. Phone call to XXX-XXX-4151\n",
      " 3. SMS passcodes to XXX-XXX-4151\n",
      "\n",
      "Passcode or option (1-3): \n",
      "1\n",
      "\n",
      "\n",
      "\n",
      "Pushed a login request to your device...\n",
      "\n",
      "Success. Logging you in...\n",
      "Welcome to O2 (Orchestra 2)!\n",
      "\u001b[32m\n",
      "   ___    ____\n",
      "  / _ \\  |___ \\\n",
      " | | | |   __) |\n",
      " | |_| |  / __/\n",
      "  \\___/  |_____|\n",
      "\n",
      "\u001b[0m\n",
      "You've landed on \u001b[33mtransfer06\u001b[0m which is a\n",
      "\u001b[33m4\u001b[0m core system with \u001b[33m7.64 GiB\u001b[0m memory\n",
      "running kernel \u001b[33m3.10.0\u001b[0m born on \u001b[33m2020-08-11\u001b[0m\n",
      "\n",
      "==== O2 ===================================================================\n",
      "\n",
      "  \u001b[31mNews (Jan 3 2022)\u001b[0m\n",
      "  \u001b[37m\n",
      "\n",
      "  +-------------------------------------------------------------------------------+\n",
      "  | ##################### RC Core launched in July 2021 ######################### |\n",
      "  |                                                                               |\n",
      "  | Since July 2021, researchers whose PI does not have a primary or secondary    |\n",
      "  | faculty appointment in an HMS Basic or Social Science Department will incur   |\n",
      "  | charges to their lab for O2 usage. Details at: it.hms.harvard.edu/rc/core     |\n",
      "  +-------------------------------------------------------------------------------+\n",
      "\n",
      "  ------------------------------\n",
      "  Contact HMS Research Computing:\n",
      "\n",
      "  E-mail      rchelp@hms.harvard.edu\n",
      "  Web         it.hms.harvard.edu/rc\n",
      "  Twitter     @hms_rc\n",
      "\n",
      "===========================================================================\n",
      "\n",
      "\u001b[0m\n",
      "\n",
      "(base) [rh183@transfer06 ~]$ \n"
     ]
    }
   ],
   "source": [
    "## initialize ssh_transfer\n",
    "ssh_t = util.ssh_interface(\n",
    "    nbytes_toReceive=4096,\n",
    "    recv_timeout=1,\n",
    "    verbose=True,\n",
    ")\n",
    "ssh_t.o2_connect(\n",
    "    hostname=remote_host_transfer,\n",
    "    username=username,\n",
    "    password=util.pw_decode(pw),\n",
    "    passcode_method=1,\n",
    "    verbose=1,\n",
    "    skip_passcode=False,\n",
    ")"
   ]
  },
  {
   "cell_type": "code",
   "execution_count": 8,
   "id": "a629281b",
   "metadata": {},
   "outputs": [
    {
     "name": "stdout",
     "output_type": "stream",
     "text": [
      "contents of    /n/data1/hms/neurobio/sabatini/rich/data/2pRAM/AEG21/2022_05_13    will be copied to    /n/files/Neurobio/MICROSCOPE/Ally/Mesoscope/AEG21/2022_05_13/suite2p_o2_output\n"
     ]
    }
   ],
   "source": [
    "dir_S2pOutput_remote = dir_S2pOutput_remote  ## from above\n",
    "dir_s2pOutput_MICROSCOPE = (Path(dir_data_MICROSCOPE) / 'suite2p_o2_output').as_posix()  ## from above\n",
    "print(f'contents of    {dir_data_remote}    will be copied to    {dir_s2pOutput_MICROSCOPE}')"
   ]
  },
  {
   "cell_type": "code",
   "execution_count": 9,
   "id": "be8961a9",
   "metadata": {},
   "outputs": [
    {
     "data": {
      "text/plain": [
       "{'make_dir': 'mkdir /n/files/Neurobio/MICROSCOPE/Ally/Mesoscope/AEG21/2022_05_13/suite2p_o2_output',\n",
       " 'copy_s2p': 'cp -r /n/data1/hms/neurobio/sabatini/rich/analysis/suite2p_output/AEG21/2022_05_13/. /n/files/Neurobio/MICROSCOPE/Ally/Mesoscope/AEG21/2022_05_13/suite2p_o2_output'}"
      ]
     },
     "metadata": {},
     "output_type": "display_data"
    }
   ],
   "source": [
    "commands = {\n",
    "    'make_dir': f\"mkdir {dir_s2pOutput_MICROSCOPE}\",\n",
    "    'copy_s2p': f\"cp -r {(Path(dir_S2pOutput_remote)).as_posix()}/. {dir_s2pOutput_MICROSCOPE}\",\n",
    "}\n",
    "display(commands)"
   ]
  },
  {
   "cell_type": "code",
   "execution_count": 10,
   "id": "eb3ad229",
   "metadata": {},
   "outputs": [
    {
     "name": "stdout",
     "output_type": "stream",
     "text": [
      "mkdir /n/files/Neurobio/MICROSCOPE/Ally/Mesoscope/A \r",
      "EG21/2022_05_13/suite2p_o2_output\r\n",
      "(base) [rh183@transfer06 ~]$ \n"
     ]
    }
   ],
   "source": [
    "ssh_t.send_receive(commands['make_dir']);"
   ]
  },
  {
   "cell_type": "code",
   "execution_count": 12,
   "id": "3bea93ac",
   "metadata": {},
   "outputs": [
    {
     "name": "stdout",
     "output_type": "stream",
     "text": [
      "cp -r /n/data1/hms/neurobio/sabatini/rich/analysis/ \r",
      "suite2p_output/AEG21/2022_05_13/. /n/files/Neurobio/MICROSCOPE/Ally/Mesoscope/AE \r",
      "G21/2022_05_13/suite2p_o2_output\r\n",
      "(base) [rh183@transfer06 ~]$ \n"
     ]
    }
   ],
   "source": [
    "ssh_t.send(commands['copy_s2p'])\n",
    "ssh_t.expect(str_success=f'[{username}', total_timeout=120, verbose=True);"
   ]
  },
  {
   "cell_type": "code",
   "execution_count": null,
   "id": "7ad2539f",
   "metadata": {},
   "outputs": [],
   "source": []
  },
  {
   "cell_type": "markdown",
   "id": "56aa2fa9",
   "metadata": {},
   "source": [
    "## Clean up"
   ]
  },
  {
   "cell_type": "code",
   "execution_count": null,
   "id": "6745e2a3",
   "metadata": {},
   "outputs": [],
   "source": [
    "## delete password\n",
    "del pw\n",
    "gc.collect()\n",
    "    \n",
    "## close ssh\n",
    "ssh_t.close()\n",
    "del ssh_t\n",
    "gc.collect()"
   ]
  },
  {
   "cell_type": "code",
   "execution_count": null,
   "id": "b12a41ab",
   "metadata": {},
   "outputs": [],
   "source": []
  },
  {
   "cell_type": "markdown",
   "id": "5b2800ac",
   "metadata": {},
   "source": [
    "----\n",
    "# ==== Optional ====\n",
    "### transfer s2p outputs from `MICROSCOPE` to local machine"
   ]
  },
  {
   "cell_type": "code",
   "execution_count": 39,
   "id": "f87276cc",
   "metadata": {},
   "outputs": [
    {
     "name": "stdout",
     "output_type": "stream",
     "text": [
      "contents of    /n/files/Neurobio/MICROSCOPE/Rich/data/test/suite2p_o2_output    will be copied to    /media/rich/bigSSD/tmp_data/suite2p_o2_output\n"
     ]
    }
   ],
   "source": [
    "dir_s2pOutput_MICROSCOPE = dir_s2pOutput_MICROSCOPE  ## from above\n",
    "dir_s2pOutput_local = str(Path(dir_data_local).resolve() / 'suite2p_o2_output')\n",
    "print(f'contents of    {dir_s2pOutput_MICROSCOPE}    will be copied to    {dir_s2pOutput_local}')"
   ]
  },
  {
   "cell_type": "code",
   "execution_count": 57,
   "id": "1a1ca1e5",
   "metadata": {},
   "outputs": [
    {
     "name": "stdout",
     "output_type": "stream",
     "text": [
      "Username: rh183\n",
      "Password: ········\n"
     ]
    }
   ],
   "source": [
    "remote_host_transfer = \"transfer.rc.hms.harvard.edu\"\n",
    "remote_host_compute = \"o2.hms.harvard.edu\"\n",
    "username = input('Username: ')\n",
    "pw = util.pw_encode(getpass.getpass(prompt='Password: '))"
   ]
  },
  {
   "cell_type": "markdown",
   "id": "356e62f4",
   "metadata": {},
   "source": [
    "## Prepare `sftp` and `ssh` objects"
   ]
  },
  {
   "cell_type": "code",
   "execution_count": 40,
   "id": "ca82d217",
   "metadata": {},
   "outputs": [],
   "source": [
    "sftp = util.sftp_interface(hostname=\"transfer.rc.hms.harvard.edu\", port=22)\n",
    "sftp.connect(username=username, password=util.pw_decode(pw))"
   ]
  },
  {
   "cell_type": "code",
   "execution_count": 41,
   "id": "123cd1d7",
   "metadata": {},
   "outputs": [
    {
     "name": "stdout",
     "output_type": "stream",
     "text": [
      "downloading /n/files/Neurobio/MICROSCOPE/Rich/data/test/suite2p_o2_output/jobNum_0/params.json   to   /media/rich/bigSSD/tmp_data/suite2p_o2_output/jobNum_0/params.json\n",
      "downloading /n/files/Neurobio/MICROSCOPE/Rich/data/test/suite2p_o2_output/jobNum_0/print_log_53419173.log   to   /media/rich/bigSSD/tmp_data/suite2p_o2_output/jobNum_0/print_log_53419173.log\n",
      "downloading /n/files/Neurobio/MICROSCOPE/Rich/data/test/suite2p_o2_output/jobNum_0/batch_run_output.png   to   /media/rich/bigSSD/tmp_data/suite2p_o2_output/jobNum_0/batch_run_output.png\n",
      "downloading /n/files/Neurobio/MICROSCOPE/Rich/data/test/suite2p_o2_output/jobNum_0/log.txt   to   /media/rich/bigSSD/tmp_data/suite2p_o2_output/jobNum_0/log.txt\n",
      "downloading /n/files/Neurobio/MICROSCOPE/Rich/data/test/suite2p_o2_output/jobNum_0/sbatch_config.sh   to   /media/rich/bigSSD/tmp_data/suite2p_o2_output/jobNum_0/sbatch_config.sh\n",
      "downloading /n/files/Neurobio/MICROSCOPE/Rich/data/test/suite2p_o2_output/jobNum_0/remote_run_s2p.py   to   /media/rich/bigSSD/tmp_data/suite2p_o2_output/jobNum_0/remote_run_s2p.py\n",
      "downloading /n/files/Neurobio/MICROSCOPE/Rich/data/test/suite2p_o2_output/jobNum_0/suite2p/plane0/spks.npy   to   /media/rich/bigSSD/tmp_data/suite2p_o2_output/jobNum_0/suite2p/plane0/spks.npy\n",
      "downloading /n/files/Neurobio/MICROSCOPE/Rich/data/test/suite2p_o2_output/jobNum_0/suite2p/plane0/stat.npy   to   /media/rich/bigSSD/tmp_data/suite2p_o2_output/jobNum_0/suite2p/plane0/stat.npy\n",
      "downloading /n/files/Neurobio/MICROSCOPE/Rich/data/test/suite2p_o2_output/jobNum_0/suite2p/plane0/Fneu.npy   to   /media/rich/bigSSD/tmp_data/suite2p_o2_output/jobNum_0/suite2p/plane0/Fneu.npy\n",
      "downloading /n/files/Neurobio/MICROSCOPE/Rich/data/test/suite2p_o2_output/jobNum_0/suite2p/plane0/iscell.npy   to   /media/rich/bigSSD/tmp_data/suite2p_o2_output/jobNum_0/suite2p/plane0/iscell.npy\n",
      "downloading /n/files/Neurobio/MICROSCOPE/Rich/data/test/suite2p_o2_output/jobNum_0/suite2p/plane0/F.npy   to   /media/rich/bigSSD/tmp_data/suite2p_o2_output/jobNum_0/suite2p/plane0/F.npy\n",
      "downloading /n/files/Neurobio/MICROSCOPE/Rich/data/test/suite2p_o2_output/jobNum_0/suite2p/plane0/ops.npy   to   /media/rich/bigSSD/tmp_data/suite2p_o2_output/jobNum_0/suite2p/plane0/ops.npy\n",
      "downloading /n/files/Neurobio/MICROSCOPE/Rich/data/test/suite2p_o2_output/notes.txt   to   /media/rich/bigSSD/tmp_data/suite2p_o2_output/notes.txt\n",
      "downloading /n/files/Neurobio/MICROSCOPE/Rich/data/test/suite2p_o2_output/remote_run_s2p.py   to   /media/rich/bigSSD/tmp_data/suite2p_o2_output/remote_run_s2p.py\n"
     ]
    }
   ],
   "source": [
    "sftp.get_dir(dir_s2pOutput_MICROSCOPE, dir_s2pOutput_local)"
   ]
  },
  {
   "cell_type": "markdown",
   "id": "20cc02ba",
   "metadata": {},
   "source": [
    "## Clean up"
   ]
  },
  {
   "cell_type": "code",
   "execution_count": 43,
   "id": "3f64d77a",
   "metadata": {},
   "outputs": [],
   "source": [
    "## delete password\n",
    "del pw\n",
    "gc.collect()\n",
    "\n",
    "## close sftp\n",
    "sftp.close()\n",
    "del sftp"
   ]
  },
  {
   "cell_type": "code",
   "execution_count": 42,
   "id": "4593c712",
   "metadata": {},
   "outputs": [],
   "source": [
    "ssh_t.close()\n",
    "ssh_c.close()"
   ]
  },
  {
   "cell_type": "code",
   "execution_count": null,
   "id": "6446b141",
   "metadata": {},
   "outputs": [],
   "source": []
  },
  {
   "cell_type": "code",
   "execution_count": null,
   "id": "abd37773",
   "metadata": {},
   "outputs": [],
   "source": []
  }
 ],
 "metadata": {
  "kernelspec": {
   "display_name": "Python 3 (ipykernel)",
   "language": "python",
   "name": "python3"
  },
  "language_info": {
   "codemirror_mode": {
    "name": "ipython",
    "version": 3
   },
   "file_extension": ".py",
   "mimetype": "text/x-python",
   "name": "python",
   "nbconvert_exporter": "python",
   "pygments_lexer": "ipython3",
   "version": "3.8.13"
  }
 },
 "nbformat": 4,
 "nbformat_minor": 5
}
