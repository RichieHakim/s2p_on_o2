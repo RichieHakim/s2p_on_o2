{
 "cells": [
  {
   "cell_type": "code",
   "execution_count": 1,
   "id": "eb297901",
   "metadata": {},
   "outputs": [
    {
     "data": {
      "text/html": [
       "<style>.container {width:95% !important; }</style>"
      ],
      "text/plain": [
       "<IPython.core.display.HTML object>"
      ]
     },
     "metadata": {},
     "output_type": "display_data"
    }
   ],
   "source": [
    "# ALWAYS RUN THIS CELL\n",
    "# widen jupyter notebook window\n",
    "from IPython.display import display, HTML\n",
    "display(HTML(\"<style>.container {width:95% !important; }</style>\"))\n"
   ]
  },
  {
   "cell_type": "code",
   "execution_count": 2,
   "id": "47fe1e80",
   "metadata": {},
   "outputs": [
    {
     "name": "stderr",
     "output_type": "stream",
     "text": [
      "/media/rich/OS/Users/Richard/Linux_stuff_on_OS/conda_envs/envs/suite2p/lib/python3.8/site-packages/paramiko/transport.py:236: CryptographyDeprecationWarning: Blowfish has been deprecated\n",
      "  \"class\": algorithms.Blowfish,\n"
     ]
    }
   ],
   "source": [
    "import os\n",
    "from pathlib import Path\n",
    "\n",
    "import paramiko\n",
    "from scp import SCPClient\n",
    "\n",
    "import getpass\n",
    "import gc"
   ]
  },
  {
   "cell_type": "code",
   "execution_count": 179,
   "id": "9abc435c",
   "metadata": {},
   "outputs": [
    {
     "name": "stdout",
     "output_type": "stream",
     "text": [
      "The autoreload extension is already loaded. To reload it, use:\n",
      "  %reload_ext autoreload\n"
     ]
    }
   ],
   "source": [
    "dir_github = '/media/rich/Home_Linux_partition/github_repos/'\n",
    "import sys\n",
    "sys.path.append(dir_github)\n",
    "\n",
    "%load_ext autoreload\n",
    "%autoreload 2\n",
    "from s2p_on_o2 import util"
   ]
  },
  {
   "cell_type": "code",
   "execution_count": 4,
   "id": "94bb8dc6",
   "metadata": {},
   "outputs": [],
   "source": [
    "# paramiko.util.log_to_file(\"paramiko.log\")"
   ]
  },
  {
   "cell_type": "code",
   "execution_count": null,
   "id": "acb38048",
   "metadata": {},
   "outputs": [],
   "source": []
  },
  {
   "cell_type": "markdown",
   "id": "853b9444",
   "metadata": {},
   "source": [
    "----\n",
    "# ==== Optional ====\n",
    "### transfer raw data from local machine to `MICROSCOPE`"
   ]
  },
  {
   "cell_type": "code",
   "execution_count": 86,
   "id": "9b172c3d",
   "metadata": {},
   "outputs": [
    {
     "name": "stdout",
     "output_type": "stream",
     "text": [
      "contents of    /media/rich/bigSSD/NMA_data    will be copied to    /n/data1/hms/neurobio/sabatini/rich/data/test2    using fxp protocol\n"
     ]
    }
   ],
   "source": [
    "## Define directories for where the local data is and the remote directory where the contents of that folder should be copied to\n",
    "dir_data_local = '/media/rich/bigSSD/NMA_data'\n",
    "dir_data_remote = '/n/data1/hms/neurobio/sabatini/rich/data/test2'  ## contents of dir_data_local will be dumped into dir_data_remote\n",
    "\n",
    "print(f'contents of    {dir_data_local}    will be copied to    {dir_data_remote}')"
   ]
  },
  {
   "cell_type": "code",
   "execution_count": 57,
   "id": "74a81947",
   "metadata": {},
   "outputs": [
    {
     "name": "stdout",
     "output_type": "stream",
     "text": [
      "Username: rh183\n",
      "Password: ········\n"
     ]
    }
   ],
   "source": [
    "remote_host_transfer = \"transfer.rc.hms.harvard.edu\"\n",
    "remote_host_compute = \"o2.hms.harvard.edu\"\n",
    "username = input('Username: ')\n",
    "pw = util.pw_encode(getpass.getpass(prompt='Password: '))"
   ]
  },
  {
   "cell_type": "markdown",
   "id": "e59e693e",
   "metadata": {},
   "source": [
    "## Prepare `sftp` and `ssh` objects"
   ]
  },
  {
   "cell_type": "code",
   "execution_count": 129,
   "id": "73448dff",
   "metadata": {},
   "outputs": [],
   "source": [
    "sftp = util.sftp_interface(hostname=\"transfer.rc.hms.harvard.edu\", port=22)\n",
    "sftp.connect(username=username, password=util.pw_decode(pw))\n",
    "\n",
    "sftp.put_dir(dir_data_local, dir_data_remote)"
   ]
  },
  {
   "cell_type": "code",
   "execution_count": null,
   "id": "0f9b25a7",
   "metadata": {},
   "outputs": [],
   "source": []
  },
  {
   "cell_type": "markdown",
   "id": "1195ed1a",
   "metadata": {},
   "source": [
    "------------\n",
    "# ==== Start ===="
   ]
  },
  {
   "cell_type": "markdown",
   "id": "f97fa0df",
   "metadata": {},
   "source": [
    "## Prepare directories"
   ]
  },
  {
   "cell_type": "code",
   "execution_count": 5,
   "id": "8c6f395a",
   "metadata": {},
   "outputs": [
    {
     "name": "stdout",
     "output_type": "stream",
     "text": [
      "contents of    /n/files/Neurobio/MICROSCOPE/Rich/data/test1/    will be copied to    /n/data1/hms/neurobio/sabatini/rich/data/test    using fxp protocol\n"
     ]
    }
   ],
   "source": [
    "dir_S2pOutput_remote = '/n/data1/hms/neurobio/sabatini/rich/analysis/suite2p_output/testRun'  ## outer directory. Final outputs will be in an inner directory\n",
    "# folderName_batch_save = 'job_'  ## name of inner folder that will be created\n",
    "\n",
    "\n",
    "path_dispatcher_local = Path(r'/media/rich/Home_Linux_partition/github_repos/s2p_on_o2/').resolve() / 'dispatcher.py'  ## path to the dispatcher.py file on local computer\n",
    "path_dispatcher_remote = Path(r'/n/data1/hms/neurobio/sabatini/rich/analysis/suite2p_output/') / 'dispatcher.py'  ## path to where you want the dispatcher.py file to be copied onto the server\n",
    "path_s2pScript_remote = '/n/data1/hms/neurobio/sabatini/rich/github_repos/s2p_on_o2/remote_run_s2p.py'  ## path to a copy of the remote_run_s2p.py file within the s2p_on_o2 repo on the server\n",
    "\n",
    "## Define directories for where the local data is and the remote directory where the contents of that folder should be copied to\n",
    "dir_data_local = '/n/files/Neurobio/MICROSCOPE/Rich/data/test1/'\n",
    "dir_data_remote = '/n/data1/hms/neurobio/sabatini/rich/data/test'  ## contents of dir_data_local will be dumped into dir_data_remote\n",
    "\n",
    "mode_transfer = 'fxp'  ## either ftp (from local machine to server) or fxp (server to server)\n",
    "print(f'contents of    {dir_data_local}    will be copied to    {dir_data_remote}    using {mode_transfer} protocol')"
   ]
  },
  {
   "cell_type": "markdown",
   "id": "e4089758",
   "metadata": {},
   "source": [
    "## Prepare username + password"
   ]
  },
  {
   "cell_type": "code",
   "execution_count": 7,
   "id": "d7307741",
   "metadata": {},
   "outputs": [
    {
     "name": "stdout",
     "output_type": "stream",
     "text": [
      "Username: rh183\n",
      "Password: ········\n"
     ]
    }
   ],
   "source": [
    "remote_host_transfer = \"transfer.rc.hms.harvard.edu\"\n",
    "remote_host_compute = \"o2.hms.harvard.edu\"\n",
    "username = input('Username: ')\n",
    "pw = util.pw_encode(getpass.getpass(prompt='Password: '))"
   ]
  },
  {
   "cell_type": "markdown",
   "id": "c3e0caa5",
   "metadata": {},
   "source": [
    "## Prepare `sftp` and `ssh` objects"
   ]
  },
  {
   "cell_type": "code",
   "execution_count": null,
   "id": "47db63b5",
   "metadata": {},
   "outputs": [],
   "source": [
    "sftp = util.sftp_interface(hostname=\"transfer.rc.hms.harvard.edu\", port=22)\n",
    "sftp.connect(username=username, password=util.pw_decode(pw))"
   ]
  },
  {
   "cell_type": "code",
   "execution_count": 9,
   "id": "41f3245e",
   "metadata": {},
   "outputs": [],
   "source": [
    "## initialize ssh_transfer\n",
    "ssh_t = util.ssh_interface(\n",
    "    nbytes_toReceive=4096,\n",
    "    recv_timeout=1,\n",
    "    verbose=True,\n",
    ")\n",
    "ssh_t.o2_connect(\n",
    "    hostname=remote_host_transfer,\n",
    "    username=username,\n",
    "    password=util.pw_decode(pw),\n",
    "    passcode_method=1,\n",
    "    verbose=1,\n",
    ")"
   ]
  },
  {
   "cell_type": "code",
   "execution_count": null,
   "id": "811fddb4",
   "metadata": {},
   "outputs": [],
   "source": [
    "## initialize ssh_compute\n",
    "ssh_c = util.ssh_interface(\n",
    "    nbytes_toReceive=4096,\n",
    "    recv_timeout=1,\n",
    "    verbose=True,\n",
    ")\n",
    "ssh_c.o2_connect(\n",
    "    hostname=remote_host_compute,\n",
    "    username=username,\n",
    "    password=util.pw_decode(pw),\n",
    "    passcode_method=1,\n",
    "    verbose=1,\n",
    ")"
   ]
  },
  {
   "cell_type": "markdown",
   "id": "c2b1fbf0",
   "metadata": {},
   "source": [
    "## Prepare commands"
   ]
  },
  {
   "cell_type": "code",
   "execution_count": 11,
   "id": "e22004a4",
   "metadata": {},
   "outputs": [
    {
     "data": {
      "text/plain": [
       "{'make_dir': 'mkdir /n/data1/hms/neurobio/sabatini/rich/data/test',\n",
       " 'copy_data': 'cp -r /n/files/Neurobio/MICROSCOPE/Rich/data/test1/. /n/data1/hms/neurobio/sabatini/rich/data/test',\n",
       " 'dispatch_s2p': 'python /n/data1/hms/neurobio/sabatini/rich/analysis/suite2p_output/dispatcher.py /n/data1/hms/neurobio/sabatini/rich/analysis/suite2p_output/testRun /n/data1/hms/neurobio/sabatini/rich/github_repos/s2p_on_o2/remote_run_s2p.py /n/data1/hms/neurobio/sabatini/rich/data/test'}"
      ]
     },
     "metadata": {},
     "output_type": "display_data"
    }
   ],
   "source": [
    "prompt_snip = f'[{username}'\n",
    "\n",
    "commands = {\n",
    "    'make_dir': f\"mkdir {dir_data_remote}\",\n",
    "    'copy_data': f\"cp -r {str(Path(dir_data_local).resolve())}/. {dir_data_remote}\",\n",
    "    'dispatch_s2p': f\"python {str(path_dispatcher_remote)} {dir_S2pOutput_remote} {path_s2pScript_remote} {dir_data_remote}\"  ## dispatcher expecting these args as inputs\n",
    "}\n",
    "display(commands)"
   ]
  },
  {
   "cell_type": "markdown",
   "id": "0479bec1",
   "metadata": {},
   "source": [
    "## Upload `dispatcher.py` file"
   ]
  },
  {
   "cell_type": "code",
   "execution_count": 36,
   "id": "ba186e20",
   "metadata": {},
   "outputs": [
    {
     "data": {
      "text/plain": [
       "<SFTPAttributes: [ size=4689 uid=140162 gid=3416 mode=0o100664 atime=1652787167 mtime=1652789733 ]>"
      ]
     },
     "execution_count": 36,
     "metadata": {},
     "output_type": "execute_result"
    }
   ],
   "source": [
    "sftp.sftp.put(str(path_dispatcher_local), str(path_dispatcher_remote))"
   ]
  },
  {
   "cell_type": "markdown",
   "id": "7d002616",
   "metadata": {},
   "source": [
    "## Copy data from `MICROSCOPE` to `data1`"
   ]
  },
  {
   "cell_type": "code",
   "execution_count": 12,
   "id": "e13dddc9",
   "metadata": {},
   "outputs": [
    {
     "name": "stdout",
     "output_type": "stream",
     "text": [
      "mkdir /n/data1/hms/neurobio/sabatini/rich/data/test \r",
      "\u001b[A\u001b[C\u001b[C\u001b[C\u001b[C\u001b[C\u001b[C\u001b[C\u001b[C\u001b[C\u001b[C\u001b[C\u001b[C\u001b[C\u001b[C\u001b[C\u001b[C\u001b[C\u001b[C\u001b[C\u001b[C\u001b[C\u001b[C\u001b[C\u001b[C\u001b[C\u001b[C\u001b[C\u001b[C\u001b[C\u001b[C\u001b[C\u001b[C\u001b[C\u001b[C\u001b[C\u001b[C\u001b[C\u001b[C\u001b[C\u001b[C\u001b[C\u001b[C\u001b[C\u001b[C\u001b[C\u001b[C\u001b[C\u001b[C\u001b[C\u001b[C\u001b[C\u001b[C\u001b[C\u001b[C\u001b[C\u001b[C\u001b[C\u001b[C\u001b[C\u001b[C\u001b[C\u001b[C\u001b[C\u001b[C\u001b[C\u001b[C\u001b[C\u001b[C\u001b[C\u001b[C\u001b[C\u001b[C\u001b[C\u001b[C\u001b[C\u001b[C\u001b[C\u001b[C\u001b[C\u001b[Kt\r\n",
      "mkdir: cannot create directory ‘/n/data1/hms/neurobio/sabatini/rich/data/test’: File exists\r\n",
      "(base) [rh183@transfer08 ~]$ \n"
     ]
    }
   ],
   "source": [
    "ssh_t.send_receive(commands['make_dir']);"
   ]
  },
  {
   "cell_type": "code",
   "execution_count": 13,
   "id": "849cfe07",
   "metadata": {},
   "outputs": [
    {
     "name": "stdout",
     "output_type": "stream",
     "text": [
      ". /n/data1/hms/neurobio/sabatini/rich/data/testst1/ \n",
      "\n",
      "(base) [rh183@transfer08 ~]$ \n"
     ]
    }
   ],
   "source": [
    "ssh_t.send(commands['copy_data'])\n",
    "ssh_t.expect(str_success=prompt_snip, total_timeout=120, verbose=True);"
   ]
  },
  {
   "cell_type": "markdown",
   "id": "0936caed",
   "metadata": {},
   "source": [
    "## Dispatch `remote_run_s2p.py`"
   ]
  },
  {
   "cell_type": "code",
   "execution_count": 38,
   "id": "8899df31",
   "metadata": {},
   "outputs": [
    {
     "name": "stdout",
     "output_type": "stream",
     "text": [
      "_run_s2p.py /n/data1/hms/neurobio/sabatini/rich/data/test_repos/s2p_on_o2/remote \n",
      "\n",
      "/n/data1/hms/neurobio/sabatini/rich/analysis/suite2p_output/dispatcher.py /n/data1/hms/neurobio/sabatini/rich/analysis/suite2p_output/testRun /n/data1/hms/neurobio/sabatini/rich/github_repos/s2p_on_o2/remote_run_s2p.py /n/data1/hms/neurobio/sabatini/rich/data/test\n",
      "\n",
      "Submitting job: jobNum_ 0\n",
      "\n",
      "Submitted batch job 53400568\n",
      "\n",
      "(base) [rh183@login04 ~]$ \n"
     ]
    }
   ],
   "source": [
    "ssh_c.send(commands['dispatch_s2p']);\n",
    "\n",
    "ssh_c.expect(str_success=prompt_snip);"
   ]
  },
  {
   "cell_type": "markdown",
   "id": "3bb4a28a",
   "metadata": {},
   "source": [
    "## Clean up"
   ]
  },
  {
   "cell_type": "code",
   "execution_count": null,
   "id": "494129fb",
   "metadata": {},
   "outputs": [],
   "source": [
    "## delete password\n",
    "del pw\n",
    "gc.collect()\n",
    "\n",
    "## close sftp\n",
    "if sftp: sftp.close()\n",
    "if transport: transport.close()\n",
    "del sftp\n",
    "del transport\n",
    "    \n",
    "## close ssh\n",
    "ssh_t.close()\n",
    "del ssh_t\n",
    "ssh_c.close()\n",
    "del ssh_c\n",
    "gc.collect()"
   ]
  },
  {
   "cell_type": "code",
   "execution_count": null,
   "id": "11a70174",
   "metadata": {},
   "outputs": [],
   "source": []
  },
  {
   "cell_type": "markdown",
   "id": "d46313f1",
   "metadata": {},
   "source": [
    "----\n",
    "# ==== Optional ====\n",
    "### transfer s2p outputs back from `data1` to `MICROSCOPE`"
   ]
  },
  {
   "cell_type": "markdown",
   "id": "e9af520e",
   "metadata": {},
   "source": [
    "## Prepare username + password"
   ]
  },
  {
   "cell_type": "code",
   "execution_count": 7,
   "id": "8b5e99de",
   "metadata": {},
   "outputs": [
    {
     "name": "stdout",
     "output_type": "stream",
     "text": [
      "Username: rh183\n",
      "Password: ········\n"
     ]
    }
   ],
   "source": [
    "remote_host_transfer = \"transfer.rc.hms.harvard.edu\"\n",
    "remote_host_compute = \"o2.hms.harvard.edu\"\n",
    "username = input('Username: ')\n",
    "pw = util.pw_encode(getpass.getpass(prompt='Password: '))"
   ]
  },
  {
   "cell_type": "markdown",
   "id": "09985ef8",
   "metadata": {},
   "source": [
    "## Prepare `ssh` object"
   ]
  },
  {
   "cell_type": "code",
   "execution_count": 48,
   "id": "c1f3bb5b",
   "metadata": {},
   "outputs": [
    {
     "name": "stdout",
     "output_type": "stream",
     "text": [
      "Duo two-factor login for rh183\n",
      "\n",
      "Enter a passcode or select one of the following options:\n",
      "\n",
      " 1. Duo Push to XXX-XXX-4151\n",
      " 2. Phone call to XXX-XXX-4151\n",
      " 3. SMS passcodes to XXX-XXX-4151\n",
      "\n",
      "Passcode or option (1-3): \n",
      "1\n",
      "\n",
      "\n",
      "\n",
      "Pushed a login request to your device...\n",
      "\n",
      "Success. Logging you in...\n",
      "Welcome to O2 (Orchestra 2)!\n",
      "\u001b[32m\n",
      "   ___    ____\n",
      "  / _ \\  |___ \\\n",
      " | | | |   __) |\n",
      " | |_| |  / __/\n",
      "  \\___/  |_____|\n",
      "\n",
      "\u001b[0m\n",
      "You've landed on \u001b[33mtransfer08\u001b[0m which is a\n",
      "\u001b[33m4\u001b[0m core system with \u001b[33m7.62 GiB\u001b[0m memory\n",
      "running kernel \u001b[33m3.10.0\u001b[0m born on \u001b[33m2021-06-23\u001b[0m\n",
      "\n",
      "==== O2 ===================================================================\n",
      "\n",
      "  \u001b[31mNews (Jan 3 2022)\u001b[0m\n",
      "  \u001b[37m\n",
      "\n",
      "  +-------------------------------------------------------------------------------+\n",
      "  | ##################### RC Core launched in July 2021 ######################### |\n",
      "  |                                                                               |\n",
      "  | Since July 2021, researchers whose PI does not have a primary or secondary    |\n",
      "  | faculty appointment in an HMS Basic or Social Science Department will incur   |\n",
      "  | charges to their lab for O2 usage. Details at: it.hms.harvard.edu/rc/core     |\n",
      "  +-------------------------------------------------------------------------------+\n",
      "\n",
      "  ------------------------------\n",
      "  Contact HMS Research Computing:\n",
      "\n",
      "  E-mail      rchelp@hms.harvard.edu\n",
      "  Web         it.hms.harvard.edu/rc\n",
      "  Twitter     @hms_rc\n",
      "\n",
      "===========================================================================\n",
      "\n",
      "\u001b[0m\n",
      "\n",
      "(base) [rh183@transfer08 ~]$ \n"
     ]
    }
   ],
   "source": [
    "## initialize ssh_transfer\n",
    "ssh_t = util.ssh_interface(\n",
    "    nbytes_toReceive=4096,\n",
    "    recv_timeout=1,\n",
    "    verbose=True,\n",
    ")\n",
    "ssh_t.o2_connect(\n",
    "    hostname=remote_host_transfer,\n",
    "    username=username,\n",
    "    password=util.pw_decode(pw),\n",
    "    passcode_method=1,\n",
    "    verbose=1,\n",
    ")"
   ]
  },
  {
   "cell_type": "code",
   "execution_count": 140,
   "id": "e9ab9f03",
   "metadata": {},
   "outputs": [
    {
     "name": "stdout",
     "output_type": "stream",
     "text": [
      "contents of    /n/data1/hms/neurobio/sabatini/rich/data/test2    will be copied to    /media/rich/bigSSD/tmp_data/test2\n"
     ]
    }
   ],
   "source": [
    "dir_S2pOutput_remote = dir_S2pOutput_remote  ## from above\n",
    "dir_s2pOutput_MICROSCOPE = '/n/files/Neurobio/MICROSCOPE/Rich/data/test1'\n",
    "print(f'contents of    {dir_data_remote}    will be copied to    {dir_s2pOutput_local}')"
   ]
  },
  {
   "cell_type": "code",
   "execution_count": 50,
   "id": "cd866cff",
   "metadata": {},
   "outputs": [
    {
     "data": {
      "text/plain": [
       "{'make_dir': 'mkdir /n/files/Neurobio/MICROSCOPE/Rich/data/2pRAM/face_rhythm_motor_mapping/test/',\n",
       " 'copy_s2p': 'cp -r /n/data1/hms/neurobio/sabatini/rich/analysis/suite2p_output/testRun/. /n/files/Neurobio/MICROSCOPE/Rich/data/2pRAM/face_rhythm_motor_mapping/test/'}"
      ]
     },
     "metadata": {},
     "output_type": "display_data"
    }
   ],
   "source": [
    "commands = {\n",
    "    'make_dir': f\"mkdir {dir_s2pOutput_MICROSCOPE}\",\n",
    "    'copy_s2p': f\"cp -r {str(Path(dir_S2pOutput_remote).resolve())}/. {dir_s2pOutput_MICROSCOPE}\",\n",
    "}\n",
    "display(commands)"
   ]
  },
  {
   "cell_type": "code",
   "execution_count": 51,
   "id": "218b5ec3",
   "metadata": {},
   "outputs": [
    {
     "name": "stdout",
     "output_type": "stream",
     "text": [
      "mkdir /n/files/Neurobio/MICROSCOPE/Rich/data/2pRAM/ \r",
      "face_rhythm_motor_mapping/test/\r\n",
      "(base) [rh183@transfer08 ~]$ \n"
     ]
    }
   ],
   "source": [
    "ssh_t.send_receive(commands['make_dir']);"
   ]
  },
  {
   "cell_type": "code",
   "execution_count": 54,
   "id": "b2cb655b",
   "metadata": {},
   "outputs": [
    {
     "name": "stdout",
     "output_type": "stream",
     "text": [
      "m_motor_mapping/test/n/. /n/files/Neurobio/MICROSCOPE/Rich/data/2pRAM/face_rhyth \n",
      "\n",
      "(base) [rh183@transfer08 ~]$ \n"
     ]
    }
   ],
   "source": [
    "ssh_t.send(commands['copy_s2p'])\n",
    "ssh_t.expect(str_success=prompt_snip, total_timeout=120, verbose=True);"
   ]
  },
  {
   "cell_type": "markdown",
   "id": "83a64018",
   "metadata": {},
   "source": [
    "## Clean up"
   ]
  },
  {
   "cell_type": "code",
   "execution_count": null,
   "id": "3fafc731",
   "metadata": {},
   "outputs": [],
   "source": [
    "## delete password\n",
    "del pw\n",
    "gc.collect()\n",
    "    \n",
    "## close ssh\n",
    "ssh_t.close()\n",
    "del ssh_t\n",
    "gc.collect()"
   ]
  },
  {
   "cell_type": "code",
   "execution_count": null,
   "id": "fbfa2d34",
   "metadata": {},
   "outputs": [],
   "source": []
  },
  {
   "cell_type": "markdown",
   "id": "4770f1ef",
   "metadata": {},
   "source": [
    "----\n",
    "# ==== Optional ====\n",
    "### transfer s2p outputs from `MICROSCOPE` to local machine"
   ]
  },
  {
   "cell_type": "code",
   "execution_count": 148,
   "id": "d4af7ab7",
   "metadata": {},
   "outputs": [
    {
     "name": "stdout",
     "output_type": "stream",
     "text": [
      "contents of    /n/files/Neurobio/MICROSCOPE/Rich/data/test1    will be copied to    /media/rich/bigSSD/tmp_data/test2\n"
     ]
    }
   ],
   "source": [
    "dir_s2pOutput_MICROSCOPE = dir_s2pOutput_MICROSCOPE  ## from above\n",
    "dir_s2pOutput_local = '/media/rich/bigSSD/tmp_data/test2'\n",
    "print(f'contents of    {dir_s2pOutput_MICROSCOPE}    will be copied to    {dir_s2pOutput_local}')"
   ]
  },
  {
   "cell_type": "code",
   "execution_count": 57,
   "id": "836b0c15",
   "metadata": {},
   "outputs": [
    {
     "name": "stdout",
     "output_type": "stream",
     "text": [
      "Username: rh183\n",
      "Password: ········\n"
     ]
    }
   ],
   "source": [
    "remote_host_transfer = \"transfer.rc.hms.harvard.edu\"\n",
    "remote_host_compute = \"o2.hms.harvard.edu\"\n",
    "username = input('Username: ')\n",
    "pw = util.pw_encode(getpass.getpass(prompt='Password: '))"
   ]
  },
  {
   "cell_type": "markdown",
   "id": "f321c588",
   "metadata": {},
   "source": [
    "## Prepare `sftp` and `ssh` objects"
   ]
  },
  {
   "cell_type": "code",
   "execution_count": null,
   "id": "42aad54b",
   "metadata": {},
   "outputs": [],
   "source": [
    "sftp = util.sftp_interface(hostname=\"transfer.rc.hms.harvard.edu\", port=22)\n",
    "sftp.connect(username=username, password=util.pw_decode(pw))"
   ]
  },
  {
   "cell_type": "code",
   "execution_count": 185,
   "id": "96e0fc38",
   "metadata": {},
   "outputs": [],
   "source": [
    "sftp.get_dir(dir_s2pOutput_MICROSCOPE, dir_s2pOutput_local)"
   ]
  },
  {
   "cell_type": "markdown",
   "id": "dc16a1a0",
   "metadata": {},
   "source": [
    "## Clean up"
   ]
  },
  {
   "cell_type": "code",
   "execution_count": null,
   "id": "109a3329",
   "metadata": {},
   "outputs": [],
   "source": [
    "## delete password\n",
    "del pw\n",
    "gc.collect()\n",
    "\n",
    "## close sftp\n",
    "if sftp: sftp.close()\n",
    "if transport: transport.close()\n",
    "del sftp"
   ]
  },
  {
   "cell_type": "code",
   "execution_count": null,
   "id": "89d98ea2",
   "metadata": {},
   "outputs": [],
   "source": []
  },
  {
   "cell_type": "code",
   "execution_count": null,
   "id": "61b9f2bd",
   "metadata": {},
   "outputs": [],
   "source": []
  },
  {
   "cell_type": "code",
   "execution_count": null,
   "id": "910966c1",
   "metadata": {},
   "outputs": [],
   "source": []
  }
 ],
 "metadata": {
  "kernelspec": {
   "display_name": "Python 3 (ipykernel)",
   "language": "python",
   "name": "python3"
  },
  "language_info": {
   "codemirror_mode": {
    "name": "ipython",
    "version": 3
   },
   "file_extension": ".py",
   "mimetype": "text/x-python",
   "name": "python",
   "nbconvert_exporter": "python",
   "pygments_lexer": "ipython3",
   "version": "3.8.13"
  }
 },
 "nbformat": 4,
 "nbformat_minor": 5
}
