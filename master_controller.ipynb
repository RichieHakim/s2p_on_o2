{
 "cells": [
  {
   "cell_type": "code",
   "execution_count": 3,
   "id": "eb297901",
   "metadata": {},
   "outputs": [
    {
     "data": {
      "text/html": [
       "<style>.container {width:95% !important; }</style>"
      ],
      "text/plain": [
       "<IPython.core.display.HTML object>"
      ]
     },
     "metadata": {},
     "output_type": "display_data"
    }
   ],
   "source": [
    "# ALWAYS RUN THIS CELL\n",
    "# widen jupyter notebook window\n",
    "from IPython.display import display, HTML\n",
    "display(HTML(\"<style>.container {width:95% !important; }</style>\"))\n"
   ]
  },
  {
   "cell_type": "code",
   "execution_count": 4,
   "id": "47fe1e80",
   "metadata": {},
   "outputs": [
    {
     "name": "stderr",
     "output_type": "stream",
     "text": [
      "/media/rich/OS/Users/Richard/Linux_stuff_on_OS/conda_envs/envs/suite2p/lib/python3.8/site-packages/paramiko/transport.py:236: CryptographyDeprecationWarning: Blowfish has been deprecated\n",
      "  \"class\": algorithms.Blowfish,\n"
     ]
    }
   ],
   "source": [
    "import os\n",
    "from pathlib import Path\n",
    "\n",
    "import paramiko\n",
    "from scp import SCPClient\n",
    "\n",
    "import getpass\n",
    "import gc"
   ]
  },
  {
   "cell_type": "code",
   "execution_count": 5,
   "id": "0653f3ae",
   "metadata": {},
   "outputs": [],
   "source": [
    "dir_github = '/media/rich/Home_Linux_partition/github_repos/'\n",
    "import sys\n",
    "sys.path.append(dir_github)\n",
    "\n",
    "%load_ext autoreload\n",
    "%autoreload 2\n",
    "from s2p_on_o2 import util"
   ]
  },
  {
   "cell_type": "code",
   "execution_count": 6,
   "id": "9f87cdf3",
   "metadata": {},
   "outputs": [],
   "source": [
    "# paramiko.util.log_to_file(\"paramiko.log\")"
   ]
  },
  {
   "cell_type": "code",
   "execution_count": null,
   "id": "c4558197",
   "metadata": {},
   "outputs": [],
   "source": []
  },
  {
   "cell_type": "markdown",
   "id": "34c31d2a",
   "metadata": {},
   "source": [
    "----\n",
    "# ==== Optional ====\n",
    "### transfer raw data from local machine to `MICROSCOPE`"
   ]
  },
  {
   "cell_type": "code",
   "execution_count": 38,
   "id": "f69810f9",
   "metadata": {},
   "outputs": [
    {
     "name": "stdout",
     "output_type": "stream",
     "text": [
      "contents of    /media/rich/bigSSD/tmp_data/    will be copied to    /n/files/Neurobio/MICROSCOPE/Rich/data/test\n"
     ]
    }
   ],
   "source": [
    "## Define directories for where the local data is and the remote directory where the contents of that folder should be copied to (MICROSCOPE)\n",
    "dir_data_local = '/media/rich/bigSSD/tmp_data/'\n",
    "dir_data_MICROSCOPE = '/n/files/Neurobio/MICROSCOPE/Rich/data/test'  ## contents of dir_data_local will be dumped into dir_data_MICROSCOPE\n",
    "\n",
    "print(f'contents of    {dir_data_local}    will be copied to    {dir_data_MICROSCOPE}')"
   ]
  },
  {
   "cell_type": "code",
   "execution_count": 6,
   "id": "6820ea94",
   "metadata": {},
   "outputs": [
    {
     "name": "stdout",
     "output_type": "stream",
     "text": [
      "Username: rh183\n",
      "Password: ········\n"
     ]
    }
   ],
   "source": [
    "remote_host_transfer = \"transfer.rc.hms.harvard.edu\"\n",
    "remote_host_compute = \"o2.hms.harvard.edu\"\n",
    "username = input('Username: ')\n",
    "pw = util.pw_encode(getpass.getpass(prompt='Password: '))"
   ]
  },
  {
   "cell_type": "markdown",
   "id": "1b2de5aa",
   "metadata": {},
   "source": [
    "## Prepare `sftp` and `ssh` objects"
   ]
  },
  {
   "cell_type": "code",
   "execution_count": null,
   "id": "576ec42c",
   "metadata": {},
   "outputs": [],
   "source": [
    "sftp = util.sftp_interface(hostname=\"transfer.rc.hms.harvard.edu\", port=22)\n",
    "sftp.connect(username=username, password=util.pw_decode(pw))"
   ]
  },
  {
   "cell_type": "code",
   "execution_count": 30,
   "id": "372f0b7a",
   "metadata": {},
   "outputs": [
    {
     "name": "stdout",
     "output_type": "stream",
     "text": [
      "uploading /media/rich/bigSSD/tmp_data/day0_00001_00001.tif   to   /n/files/Neurobio/MICROSCOPE/Rich/data/test/day0_00001_00001.tif\n",
      "uploading /media/rich/bigSSD/tmp_data/day0_00001_00002.tif   to   /n/files/Neurobio/MICROSCOPE/Rich/data/test/day0_00001_00002.tif\n"
     ]
    }
   ],
   "source": [
    "# sftp.mkdir_safe(dir_data_remote)\n",
    "sftp.put_dir(dir_data_local, dir_data_MICROSCOPE)"
   ]
  },
  {
   "cell_type": "code",
   "execution_count": null,
   "id": "d90416cf",
   "metadata": {},
   "outputs": [],
   "source": []
  },
  {
   "cell_type": "markdown",
   "id": "75a8ab06",
   "metadata": {},
   "source": [
    "------------\n",
    "# ==== Start ===="
   ]
  },
  {
   "cell_type": "markdown",
   "id": "432f488a",
   "metadata": {},
   "source": [
    "## Prepare directories"
   ]
  },
  {
   "cell_type": "code",
   "execution_count": 7,
   "id": "d9c4af0c",
   "metadata": {},
   "outputs": [
    {
     "name": "stdout",
     "output_type": "stream",
     "text": [
      "contents of    /n/files/Neurobio/MICROSCOPE/Rich/data/test/    will be copied to    /n/data1/hms/neurobio/sabatini/rich/data/test\n"
     ]
    }
   ],
   "source": [
    "## Define directories for where the local data is and the remote directory where the contents of that folder should be copied to\n",
    "dir_data_MICROSCOPE = Path(r'/n/files/Neurobio/MICROSCOPE/Ally/Mesoscope/AEG21/2022_05_13').as_posix()\n",
    "dir_data_remote = Path(r'/n/data1/hms/neurobio/sabatini/rich/data/2pRAM/AEG21/2022_05_13').as_posix()  ## contents of dir_data_local will be dumped into dir_data_remote\n",
    "\n",
    "\n",
    "dir_S2pOutput_remote = Path(r'/n/data1/hms/neurobio/sabatini/rich/analysis/suite2p_output/AEG21/2022_05_13').as_posix()  ## outer directory. Final outputs will be in an inner directory\n",
    "name_job = 'jobNum_'\n",
    "\n",
    "\n",
    "path_dispatcher_local = Path(r'C:\\Users\\scanimage\\github_repos\\s2p_on_o2').resolve() / 'dispatcher.py'  ## path to the dispatcher.py file on local computer\n",
    "path_dispatcher_remote = (Path(r'/n/data1/hms/neurobio/sabatini/rich/analysis/suite2p_output/') / 'dispatcher.py').as_posix()  ## path to where you want the dispatcher.py file to be copied onto the server\n",
    "path_s2pScript_remote = Path(r'/n/data1/hms/neurobio/sabatini/rich/github_repos/s2p_on_o2/remote_run_s2p.py').as_posix()  ## path to a copy of the remote_run_s2p.py file within the s2p_on_o2 repo on the server\n",
    "\n",
    "print(f'contents of    {dir_data_MICROSCOPE}    will be copied to    {dir_data_remote}')"
   ]
  },
  {
   "cell_type": "markdown",
   "id": "f7622a98",
   "metadata": {},
   "source": [
    "## Prepare username + password"
   ]
  },
  {
   "cell_type": "code",
   "execution_count": 8,
   "id": "2326fa14",
   "metadata": {},
   "outputs": [
    {
     "name": "stdout",
     "output_type": "stream",
     "text": [
      "Username: rh183\n",
      "Password: ········\n"
     ]
    }
   ],
   "source": [
    "remote_host_transfer = \"transfer.rc.hms.harvard.edu\"\n",
    "remote_host_compute = \"o2.hms.harvard.edu\"\n",
    "username = input('Username: ')\n",
    "pw = util.pw_encode(getpass.getpass(prompt='Password: '))"
   ]
  },
  {
   "cell_type": "markdown",
   "id": "a704b213",
   "metadata": {},
   "source": [
    "## Prepare `sftp` and `ssh` objects"
   ]
  },
  {
   "cell_type": "code",
   "execution_count": 9,
   "id": "4b66ac85",
   "metadata": {},
   "outputs": [],
   "source": [
    "sftp = util.sftp_interface(hostname=\"transfer.rc.hms.harvard.edu\", port=22)\n",
    "sftp.connect(username=username, password=util.pw_decode(pw))"
   ]
  },
  {
   "cell_type": "code",
   "execution_count": 10,
   "id": "5abdff79",
   "metadata": {},
   "outputs": [
    {
     "name": "stdout",
     "output_type": "stream",
     "text": [
      "Duo two-factor login for rh183\n",
      "\n",
      "Enter a passcode or select one of the following options:\n",
      "\n",
      " 1. Duo Push to XXX-XXX-4151\n",
      " 2. Phone call to XXX-XXX-4151\n",
      " 3. SMS passcodes to XXX-XXX-4151\n",
      "\n",
      "Passcode or option (1-3): \n",
      "1\n",
      "\n",
      "\n",
      "\n",
      "Pushed a login request to your device...\n",
      "\n",
      "Success. Logging you in...\n",
      "\n",
      "Welcome to O2 (Orchestra 2)!\n",
      "\u001b[32m\n",
      "   ___    ____\n",
      "  / _ \\  |___ \\\n",
      " | | | |   __) |\n",
      " | |_| |  / __/\n",
      "  \\___/  |_____|\n",
      "\n",
      "\u001b[0m\n",
      "You've landed on \u001b[33mtransfer03\u001b[0m which is a\n",
      "\u001b[33m4\u001b[0m core system with \u001b[33m7.62 GiB\u001b[0m memory\n",
      "running kernel \u001b[33m3.10.0\u001b[0m born on \u001b[33m2020-07-31\u001b[0m\n",
      "\n",
      "==== O2 ===================================================================\n",
      "\n",
      "  \u001b[31mNews (Jan 3 2022)\u001b[0m\n",
      "  \u001b[37m\n",
      "\n",
      "  +-------------------------------------------------------------------------------+\n",
      "  | ##################### RC Core launched in July 2021 ######################### |\n",
      "  |                                                                               |\n",
      "  | Since July 2021, researchers whose PI does not have a primary or secondary    |\n",
      "  | faculty appointment in an HMS Basic or Social Science Department will incur   |\n",
      "  | charges to their lab for O2 usage. Details at: it.hms.harvard.edu/rc/core     |\n",
      "  +-------------------------------------------------------------------------------+\n",
      "\n",
      "  ------------------------------\n",
      "  Contact HMS Research Computing:\n",
      "\n",
      "  E-mail      rchelp@hms.harvard.edu\n",
      "  Web         it.hms.harvard.edu/rc\n",
      "  Twitter     @hms_rc\n",
      "\n",
      "===========================================================================\n",
      "\n",
      "\u001b[0m\n",
      "\n",
      "(base) [rh183@transfer03 ~]$ \n"
     ]
    }
   ],
   "source": [
    "## initialize ssh_transfer\n",
    "ssh_t = util.ssh_interface(\n",
    "    nbytes_toReceive=4096,\n",
    "    recv_timeout=1,\n",
    "    verbose=True,\n",
    ")\n",
    "ssh_t.o2_connect(\n",
    "    hostname=remote_host_transfer,\n",
    "    username=username,\n",
    "    password=util.pw_decode(pw),\n",
    "    passcode_method=1,\n",
    "    verbose=1,\n",
    ")"
   ]
  },
  {
   "cell_type": "code",
   "execution_count": 11,
   "id": "9546272c",
   "metadata": {},
   "outputs": [
    {
     "name": "stdout",
     "output_type": "stream",
     "text": [
      "Duo two-factor login for rh183\n",
      "\n",
      "Enter a passcode or select one of the following options:\n",
      "\n",
      " 1. Duo Push to XXX-XXX-4151\n",
      " 2. Phone call to XXX-XXX-4151\n",
      " 3. SMS passcodes to XXX-XXX-4151\n",
      "\n",
      "Passcode or option (1-3): \n",
      "1\n",
      "\n",
      "\n",
      "\n",
      "Pushed a login request to your device...\n",
      "\n",
      "Success. Logging you in...\n",
      "Welcome to O2 (Orchestra 2)!\n",
      "\u001b[32m\n",
      "   ___    ____\n",
      "  / _ \\  |___ \\\n",
      " | | | |   __) |\n",
      " | |_| |  / __/\n",
      "  \\___/  |_____|\n",
      "\n",
      "\u001b[0m\n",
      "You've landed on \u001b[33mlogin01\u001b[0m which is a\n",
      "\u001b[33m8\u001b[0m core system with \u001b[33m15.50 GiB\u001b[0m memory\n",
      "running kernel \u001b[33m3.10.0\u001b[0m born on \u001b[33m2020-07-07\u001b[0m\n",
      "\n",
      "==== O2 ===================================================================\n",
      "\n",
      "  \u001b[31mNews (Jan 3 2022)\u001b[0m\n",
      "  \u001b[37m\n",
      "\n",
      "  +-------------------------------------------------------------------------------+\n",
      "  | ##################### RC Core launched in July 2021 ######################### |\n",
      "  |                                                                               |\n",
      "  | Since July 2021, researchers whose PI does not have a primary or secondary    |\n",
      "  | faculty appointment in an HMS Basic or Social Science Department will incur   |\n",
      "  | charges to their lab for O2 usage. Details at: it.hms.harvard.edu/rc/core     |\n",
      "  +-------------------------------------------------------------------------------+\n",
      "\n",
      "  ------------------------------\n",
      "  Contact HMS Research Computing:\n",
      "\n",
      "  E-mail      rchelp@hms.harvard.edu\n",
      "  Web         it.hms.harvard.edu/rc\n",
      "  Twitter     @hms_rc\n",
      "\n",
      "===========================================================================\n",
      "\n",
      "\u001b[0m\n",
      "\n",
      "(base) [rh183@login01 ~]$ \n"
     ]
    }
   ],
   "source": [
    "## initialize ssh_compute\n",
    "ssh_c = util.ssh_interface(\n",
    "    nbytes_toReceive=4096,\n",
    "    recv_timeout=1,\n",
    "    verbose=True,\n",
    ")\n",
    "ssh_c.o2_connect(\n",
    "    hostname=remote_host_compute,\n",
    "    username=username,\n",
    "    password=util.pw_decode(pw),\n",
    "    passcode_method=1,\n",
    "    verbose=1,\n",
    ")"
   ]
  },
  {
   "cell_type": "markdown",
   "id": "04f1d151",
   "metadata": {},
   "source": [
    "## Prepare commands"
   ]
  },
  {
   "cell_type": "code",
   "execution_count": 12,
   "id": "0314ee23",
   "metadata": {},
   "outputs": [
    {
     "data": {
      "text/plain": [
       "{'make_dir': 'mkdir /n/data1/hms/neurobio/sabatini/rich/data/test',\n",
       " 'copy_data': 'cp -r /n/files/Neurobio/MICROSCOPE/Rich/data/test/. /n/data1/hms/neurobio/sabatini/rich/data/test',\n",
       " 'dispatch_s2p': 'python /n/data1/hms/neurobio/sabatini/rich/analysis/suite2p_output/dispatcher.py /n/data1/hms/neurobio/sabatini/rich/analysis/suite2p_output/testRun /n/data1/hms/neurobio/sabatini/rich/github_repos/s2p_on_o2/remote_run_s2p.py jobNum_ /n/data1/hms/neurobio/sabatini/rich/data/test'}"
      ]
     },
     "metadata": {},
     "output_type": "display_data"
    }
   ],
   "source": [
    "prompt_snip = f'[{username}'\n",
    "\n",
    "commands = {\n",
    "    'make_dir': f\"mkdir -p {dir_data_remote}\",\n",
    "    'copy_data': f\"cp -r {dir_data_MICROSCOPE}/. {dir_data_remote}\",\n",
    "    'dispatch_s2p': f\"python {str(path_dispatcher_remote)} {dir_S2pOutput_remote} {path_s2pScript_remote} {name_job} {dir_data_remote}\"  ## dispatcher expecting these args as inputs\n",
    "}\n",
    "display(commands)"
   ]
  },
  {
   "cell_type": "markdown",
   "id": "04ba6ed4",
   "metadata": {},
   "source": [
    "## Upload `dispatcher.py` file"
   ]
  },
  {
   "cell_type": "code",
   "execution_count": 13,
   "id": "54e545db",
   "metadata": {},
   "outputs": [],
   "source": [
    "sftp.sftp.put(str(path_dispatcher_local), str(path_dispatcher_remote));"
   ]
  },
  {
   "cell_type": "markdown",
   "id": "abb276d1",
   "metadata": {},
   "source": [
    "## Copy data from `MICROSCOPE` to `data1`"
   ]
  },
  {
   "cell_type": "code",
   "execution_count": 41,
   "id": "10bdd366",
   "metadata": {},
   "outputs": [
    {
     "name": "stdout",
     "output_type": "stream",
     "text": [
      "mkdir /n/data1/hms/neurobio/sabatini/rich/data/test \r",
      "\u001b[A\u001b[C\u001b[C\u001b[C\u001b[C\u001b[C\u001b[C\u001b[C\u001b[C\u001b[C\u001b[C\u001b[C\u001b[C\u001b[C\u001b[C\u001b[C\u001b[C\u001b[C\u001b[C\u001b[C\u001b[C\u001b[C\u001b[C\u001b[C\u001b[C\u001b[C\u001b[C\u001b[C\u001b[C\u001b[C\u001b[C\u001b[C\u001b[C\u001b[C\u001b[C\u001b[C\u001b[C\u001b[C\u001b[C\u001b[C\u001b[C\u001b[C\u001b[C\u001b[C\u001b[C\u001b[C\u001b[C\u001b[C\u001b[C\u001b[C\u001b[C\u001b[C\u001b[C\u001b[C\u001b[C\u001b[C\u001b[C\u001b[C\u001b[C\u001b[C\u001b[C\u001b[C\u001b[C\u001b[C\u001b[C\u001b[C\u001b[C\u001b[C\u001b[C\u001b[C\u001b[C\u001b[C\u001b[C\u001b[C\u001b[C\u001b[C\u001b[C\u001b[C\u001b[C\u001b[C\u001b[Kt\r\n",
      "(base) [rh183@transfer03 ~]$ \n"
     ]
    }
   ],
   "source": [
    "ssh_t.send_receive(commands['make_dir']);"
   ]
  },
  {
   "cell_type": "code",
   "execution_count": 42,
   "id": "5e3e4e19",
   "metadata": {},
   "outputs": [
    {
     "name": "stdout",
     "output_type": "stream",
     "text": [
      "cp -r /n/files/Neurobio/MICROSCOPE/Rich/data/tes\n",
      " /n/data1/hms/neurobio/sabatini/rich/data/test\n",
      "\n",
      "(base) [rh183@transfer03 ~]$ \n"
     ]
    }
   ],
   "source": [
    "ssh_t.send(commands['copy_data'])\n",
    "ssh_t.expect(str_success=prompt_snip, total_timeout=120, verbose=True);"
   ]
  },
  {
   "cell_type": "markdown",
   "id": "5d97cfbf",
   "metadata": {},
   "source": [
    "## Dispatch `remote_run_s2p.py`"
   ]
  },
  {
   "cell_type": "code",
   "execution_count": 14,
   "id": "7a1172cd",
   "metadata": {},
   "outputs": [
    {
     "name": "stdout",
     "output_type": "stream",
     "text": [
      "ite2p_output/dispatcher.py /n/data1/hmsich/analysis/su \n",
      "output/testRun /n/data1/hms/neurobio/sabatini/rich/gith\n",
      "_run_s2p.py jobNu2/remote \n",
      "m_ /n/data1/hms/neurobio/sabatini/rich/data/test\n",
      "\n",
      "/n/data1/hms/neurobio/sabatini/rich/analysis/suite2p_output/dispatcher.py /n/data1/hms/neurobio/sabatini/rich/analysis/suite2p_output/testRun /n/data1/hms/neurobio/sabatini/rich/github_repos/s2p_on_o2/remote_run_s2p.py jobNum_ /n/data1/hms/neurobio/sabatini/rich/data/test\n",
      "\n",
      "Submitting job: jobNum_ 0\n",
      "\n",
      "Submitted batch job 53419173\n",
      "\n",
      "(base) [rh183@login01 ~]$ \n"
     ]
    }
   ],
   "source": [
    "ssh_c.send(commands['dispatch_s2p']);\n",
    "\n",
    "ssh_c.expect(str_success=prompt_snip);"
   ]
  },
  {
   "cell_type": "markdown",
   "id": "6c7ceb56",
   "metadata": {},
   "source": [
    "### check on job"
   ]
  },
  {
   "cell_type": "code",
   "execution_count": 15,
   "id": "cf465965",
   "metadata": {},
   "outputs": [
    {
     "name": "stdout",
     "output_type": "stream",
     "text": [
      "squeue -u rh183 --Format=jobid,name,partition,s\n",
      "meused,starttime,timelimit,reasonlist,minmemory,mincpus,gres\n",
      "\n",
      "JOBID               NAME                PARTITION           STATE               TIME                START_TIME          TIME_LIMIT          NODELIST(REASON)    MIN_MEMORY          MIN_CPUS            TRES_PER_NODE       \n",
      "\n",
      "53419173            suite2p             priority            PENDING             0:00                N/A                 10:00               (None)              32G                 20                  N/A                 \n",
      "(base) [rh183@login01 ~]$ \n"
     ]
    }
   ],
   "source": [
    "ssh_c.send(cmd=f'squeue -u {username} --Format=jobid,name,partition,state,timeused,starttime,timelimit,reasonlist,minmemory,mincpus,gres');\n",
    "ssh_c.expect(str_success=f\"[{username}\", total_timeout=1);"
   ]
  },
  {
   "cell_type": "code",
   "execution_count": 17,
   "id": "29ee5000",
   "metadata": {},
   "outputs": [
    {
     "name": "stdout",
     "output_type": "stream",
     "text": [
      "cat /n/data1/hms/neurobi\n",
      "o/sabatini/rich/analysis/suite \r",
      "2p_output/testRun/jobNum_0/print*\r\n",
      "\n",
      "cat: /n/data1/hms/neurobio/sabatini/rich/analysis/suite2p_output/testRun/jobNum_0/print*: No such file or directory\r\n",
      "(base) [rh183@login01 ~]$ \n"
     ]
    }
   ],
   "source": [
    "ssh_c.send(cmd=f\"cat {(Path(dir_S2pOutput_remote) / (name_job+'0') / 'print*').as_posix()}\")\n",
    "ssh_c.expect(str_success=f\"[{username}\", total_timeout=1);"
   ]
  },
  {
   "cell_type": "code",
   "execution_count": 27,
   "id": "f231cf73",
   "metadata": {
    "scrolled": true
   },
   "outputs": [
    {
     "name": "stdout",
     "output_type": "stream",
     "text": [
      "RUN COMPLETE!!!     Tue May 17 14:52:20 2022\n"
     ]
    }
   ],
   "source": [
    "flag_COMPLETE=False\n",
    "while flag_COMPLETE==False:\n",
    "    ssh_c.send(cmd=f\"cat {str(Path(dir_S2pOutput_remote).resolve() / (name_job+'0') / 'log.txt')}\")\n",
    "    # ssh_c.expect(str_success=f\"[{username}\")\n",
    "    flag_COMPLETE = ssh_c.expect(str_success=f\"RUN COMPLETE\", total_timeout=1, verbose=False)[1]\n",
    "    time.sleep(1)\n",
    "\n",
    "print(f'RUN COMPLETE!!!     {time.ctime()}')"
   ]
  },
  {
   "cell_type": "markdown",
   "id": "f4820269",
   "metadata": {},
   "source": [
    "## Clean up"
   ]
  },
  {
   "cell_type": "code",
   "execution_count": null,
   "id": "0ce35588",
   "metadata": {},
   "outputs": [],
   "source": [
    "## delete password\n",
    "del pw\n",
    "gc.collect()\n",
    "\n",
    "## close sftp\n",
    "if sftp: sftp.close()\n",
    "if transport: transport.close()\n",
    "del sftp\n",
    "del transport\n",
    "    \n",
    "## close ssh\n",
    "ssh_t.close()\n",
    "del ssh_t\n",
    "ssh_c.close()\n",
    "del ssh_c\n",
    "gc.collect()"
   ]
  },
  {
   "cell_type": "code",
   "execution_count": null,
   "id": "83ee0b6e",
   "metadata": {},
   "outputs": [],
   "source": []
  },
  {
   "cell_type": "markdown",
   "id": "834ba110",
   "metadata": {},
   "source": [
    "----\n",
    "# ==== Optional ====\n",
    "### transfer s2p outputs back from `data1` to `MICROSCOPE`"
   ]
  },
  {
   "cell_type": "markdown",
   "id": "08af7bed",
   "metadata": {},
   "source": [
    "## Prepare username + password"
   ]
  },
  {
   "cell_type": "code",
   "execution_count": 7,
   "id": "6341323f",
   "metadata": {},
   "outputs": [
    {
     "name": "stdout",
     "output_type": "stream",
     "text": [
      "Username: rh183\n",
      "Password: ········\n"
     ]
    }
   ],
   "source": [
    "remote_host_transfer = \"transfer.rc.hms.harvard.edu\"\n",
    "remote_host_compute = \"o2.hms.harvard.edu\"\n",
    "username = input('Username: ')\n",
    "pw = util.pw_encode(getpass.getpass(prompt='Password: '))"
   ]
  },
  {
   "cell_type": "markdown",
   "id": "4a39b9a2",
   "metadata": {},
   "source": [
    "## Prepare `ssh` object"
   ]
  },
  {
   "cell_type": "code",
   "execution_count": 48,
   "id": "5d2cd045",
   "metadata": {},
   "outputs": [
    {
     "name": "stdout",
     "output_type": "stream",
     "text": [
      "Duo two-factor login for rh183\n",
      "\n",
      "Enter a passcode or select one of the following options:\n",
      "\n",
      " 1. Duo Push to XXX-XXX-4151\n",
      " 2. Phone call to XXX-XXX-4151\n",
      " 3. SMS passcodes to XXX-XXX-4151\n",
      "\n",
      "Passcode or option (1-3): \n",
      "1\n",
      "\n",
      "\n",
      "\n",
      "Pushed a login request to your device...\n",
      "\n",
      "Success. Logging you in...\n",
      "Welcome to O2 (Orchestra 2)!\n",
      "\u001b[32m\n",
      "   ___    ____\n",
      "  / _ \\  |___ \\\n",
      " | | | |   __) |\n",
      " | |_| |  / __/\n",
      "  \\___/  |_____|\n",
      "\n",
      "\u001b[0m\n",
      "You've landed on \u001b[33mtransfer08\u001b[0m which is a\n",
      "\u001b[33m4\u001b[0m core system with \u001b[33m7.62 GiB\u001b[0m memory\n",
      "running kernel \u001b[33m3.10.0\u001b[0m born on \u001b[33m2021-06-23\u001b[0m\n",
      "\n",
      "==== O2 ===================================================================\n",
      "\n",
      "  \u001b[31mNews (Jan 3 2022)\u001b[0m\n",
      "  \u001b[37m\n",
      "\n",
      "  +-------------------------------------------------------------------------------+\n",
      "  | ##################### RC Core launched in July 2021 ######################### |\n",
      "  |                                                                               |\n",
      "  | Since July 2021, researchers whose PI does not have a primary or secondary    |\n",
      "  | faculty appointment in an HMS Basic or Social Science Department will incur   |\n",
      "  | charges to their lab for O2 usage. Details at: it.hms.harvard.edu/rc/core     |\n",
      "  +-------------------------------------------------------------------------------+\n",
      "\n",
      "  ------------------------------\n",
      "  Contact HMS Research Computing:\n",
      "\n",
      "  E-mail      rchelp@hms.harvard.edu\n",
      "  Web         it.hms.harvard.edu/rc\n",
      "  Twitter     @hms_rc\n",
      "\n",
      "===========================================================================\n",
      "\n",
      "\u001b[0m\n",
      "\n",
      "(base) [rh183@transfer08 ~]$ \n"
     ]
    }
   ],
   "source": [
    "## initialize ssh_transfer\n",
    "ssh_t = util.ssh_interface(\n",
    "    nbytes_toReceive=4096,\n",
    "    recv_timeout=1,\n",
    "    verbose=True,\n",
    ")\n",
    "ssh_t.o2_connect(\n",
    "    hostname=remote_host_transfer,\n",
    "    username=username,\n",
    "    password=util.pw_decode(pw),\n",
    "    passcode_method=1,\n",
    "    verbose=1,\n",
    ")"
   ]
  },
  {
   "cell_type": "code",
   "execution_count": 33,
   "id": "559d00a1",
   "metadata": {},
   "outputs": [
    {
     "name": "stdout",
     "output_type": "stream",
     "text": [
      "contents of    /n/data1/hms/neurobio/sabatini/rich/data/test    will be copied to    /n/files/Neurobio/MICROSCOPE/Rich/data/test/suite2p_o2_output\n"
     ]
    }
   ],
   "source": [
    "dir_S2pOutput_remote = dir_S2pOutput_remote  ## from above\n",
    "dir_s2pOutput_MICROSCOPE = str(Path(dir_data_MICROSCOPE).resolve() / 'suite2p_o2_output')  ## from above\n",
    "print(f'contents of    {dir_data_remote}    will be copied to    {dir_s2pOutput_MICROSCOPE}')"
   ]
  },
  {
   "cell_type": "code",
   "execution_count": 34,
   "id": "63d8a6d9",
   "metadata": {},
   "outputs": [
    {
     "data": {
      "text/plain": [
       "{'make_dir': 'mkdir /n/files/Neurobio/MICROSCOPE/Rich/data/test/suite2p_o2_output',\n",
       " 'copy_s2p': 'cp -r /n/data1/hms/neurobio/sabatini/rich/analysis/suite2p_output/testRun/. /n/files/Neurobio/MICROSCOPE/Rich/data/test/suite2p_o2_output'}"
      ]
     },
     "metadata": {},
     "output_type": "display_data"
    }
   ],
   "source": [
    "commands = {\n",
    "    'make_dir': f\"mkdir {dir_s2pOutput_MICROSCOPE}\",\n",
    "    'copy_s2p': f\"cp -r {str(Path(dir_S2pOutput_remote).resolve())}/. {dir_s2pOutput_MICROSCOPE}\",\n",
    "}\n",
    "display(commands)"
   ]
  },
  {
   "cell_type": "code",
   "execution_count": 35,
   "id": "aef5a674",
   "metadata": {},
   "outputs": [
    {
     "name": "stdout",
     "output_type": "stream",
     "text": [
      "mkdir /n/files/Neurobio/MICROSCOPE/Rich/data/test/s \r",
      "uite2p_o2_output\r\n",
      "(base) [rh183@transfer03 ~]$ \n"
     ]
    }
   ],
   "source": [
    "ssh_t.send_receive(commands['make_dir']);"
   ]
  },
  {
   "cell_type": "code",
   "execution_count": 36,
   "id": "a7c495eb",
   "metadata": {},
   "outputs": [
    {
     "name": "stdout",
     "output_type": "stream",
     "text": [
      "ouite2p_output/testRun/. /n/files/Neurobio/MICROSCOPE/Rich/data/test/suite2p_o2_ \n",
      "tput\n",
      "\n",
      "(base) [rh183@transfer03 ~]$ \n"
     ]
    }
   ],
   "source": [
    "ssh_t.send(commands['copy_s2p'])\n",
    "ssh_t.expect(str_success=prompt_snip, total_timeout=120, verbose=True);"
   ]
  },
  {
   "cell_type": "code",
   "execution_count": null,
   "id": "327adc2d",
   "metadata": {},
   "outputs": [],
   "source": []
  },
  {
   "cell_type": "markdown",
   "id": "90e34ff4",
   "metadata": {},
   "source": [
    "## Clean up"
   ]
  },
  {
   "cell_type": "code",
   "execution_count": null,
   "id": "19e9e370",
   "metadata": {},
   "outputs": [],
   "source": [
    "## delete password\n",
    "del pw\n",
    "gc.collect()\n",
    "    \n",
    "## close ssh\n",
    "ssh_t.close()\n",
    "del ssh_t\n",
    "gc.collect()"
   ]
  },
  {
   "cell_type": "code",
   "execution_count": null,
   "id": "1bec73c7",
   "metadata": {},
   "outputs": [],
   "source": []
  },
  {
   "cell_type": "markdown",
   "id": "7b076598",
   "metadata": {},
   "source": [
    "----\n",
    "# ==== Optional ====\n",
    "### transfer s2p outputs from `MICROSCOPE` to local machine"
   ]
  },
  {
   "cell_type": "code",
   "execution_count": 39,
   "id": "c0c418b8",
   "metadata": {},
   "outputs": [
    {
     "name": "stdout",
     "output_type": "stream",
     "text": [
      "contents of    /n/files/Neurobio/MICROSCOPE/Rich/data/test/suite2p_o2_output    will be copied to    /media/rich/bigSSD/tmp_data/suite2p_o2_output\n"
     ]
    }
   ],
   "source": [
    "dir_s2pOutput_MICROSCOPE = dir_s2pOutput_MICROSCOPE  ## from above\n",
    "dir_s2pOutput_local = str(Path(dir_data_local).resolve() / 'suite2p_o2_output')\n",
    "print(f'contents of    {dir_s2pOutput_MICROSCOPE}    will be copied to    {dir_s2pOutput_local}')"
   ]
  },
  {
   "cell_type": "code",
   "execution_count": 57,
   "id": "d79aa68a",
   "metadata": {},
   "outputs": [
    {
     "name": "stdout",
     "output_type": "stream",
     "text": [
      "Username: rh183\n",
      "Password: ········\n"
     ]
    }
   ],
   "source": [
    "remote_host_transfer = \"transfer.rc.hms.harvard.edu\"\n",
    "remote_host_compute = \"o2.hms.harvard.edu\"\n",
    "username = input('Username: ')\n",
    "pw = util.pw_encode(getpass.getpass(prompt='Password: '))"
   ]
  },
  {
   "cell_type": "markdown",
   "id": "5d481039",
   "metadata": {},
   "source": [
    "## Prepare `sftp` and `ssh` objects"
   ]
  },
  {
   "cell_type": "code",
   "execution_count": 40,
   "id": "43be8a6e",
   "metadata": {},
   "outputs": [],
   "source": [
    "sftp = util.sftp_interface(hostname=\"transfer.rc.hms.harvard.edu\", port=22)\n",
    "sftp.connect(username=username, password=util.pw_decode(pw))"
   ]
  },
  {
   "cell_type": "code",
   "execution_count": 41,
   "id": "83d83a8e",
   "metadata": {},
   "outputs": [
    {
     "name": "stdout",
     "output_type": "stream",
     "text": [
      "downloading /n/files/Neurobio/MICROSCOPE/Rich/data/test/suite2p_o2_output/jobNum_0/params.json   to   /media/rich/bigSSD/tmp_data/suite2p_o2_output/jobNum_0/params.json\n",
      "downloading /n/files/Neurobio/MICROSCOPE/Rich/data/test/suite2p_o2_output/jobNum_0/print_log_53419173.log   to   /media/rich/bigSSD/tmp_data/suite2p_o2_output/jobNum_0/print_log_53419173.log\n",
      "downloading /n/files/Neurobio/MICROSCOPE/Rich/data/test/suite2p_o2_output/jobNum_0/batch_run_output.png   to   /media/rich/bigSSD/tmp_data/suite2p_o2_output/jobNum_0/batch_run_output.png\n",
      "downloading /n/files/Neurobio/MICROSCOPE/Rich/data/test/suite2p_o2_output/jobNum_0/log.txt   to   /media/rich/bigSSD/tmp_data/suite2p_o2_output/jobNum_0/log.txt\n",
      "downloading /n/files/Neurobio/MICROSCOPE/Rich/data/test/suite2p_o2_output/jobNum_0/sbatch_config.sh   to   /media/rich/bigSSD/tmp_data/suite2p_o2_output/jobNum_0/sbatch_config.sh\n",
      "downloading /n/files/Neurobio/MICROSCOPE/Rich/data/test/suite2p_o2_output/jobNum_0/remote_run_s2p.py   to   /media/rich/bigSSD/tmp_data/suite2p_o2_output/jobNum_0/remote_run_s2p.py\n",
      "downloading /n/files/Neurobio/MICROSCOPE/Rich/data/test/suite2p_o2_output/jobNum_0/suite2p/plane0/spks.npy   to   /media/rich/bigSSD/tmp_data/suite2p_o2_output/jobNum_0/suite2p/plane0/spks.npy\n",
      "downloading /n/files/Neurobio/MICROSCOPE/Rich/data/test/suite2p_o2_output/jobNum_0/suite2p/plane0/stat.npy   to   /media/rich/bigSSD/tmp_data/suite2p_o2_output/jobNum_0/suite2p/plane0/stat.npy\n",
      "downloading /n/files/Neurobio/MICROSCOPE/Rich/data/test/suite2p_o2_output/jobNum_0/suite2p/plane0/Fneu.npy   to   /media/rich/bigSSD/tmp_data/suite2p_o2_output/jobNum_0/suite2p/plane0/Fneu.npy\n",
      "downloading /n/files/Neurobio/MICROSCOPE/Rich/data/test/suite2p_o2_output/jobNum_0/suite2p/plane0/iscell.npy   to   /media/rich/bigSSD/tmp_data/suite2p_o2_output/jobNum_0/suite2p/plane0/iscell.npy\n",
      "downloading /n/files/Neurobio/MICROSCOPE/Rich/data/test/suite2p_o2_output/jobNum_0/suite2p/plane0/F.npy   to   /media/rich/bigSSD/tmp_data/suite2p_o2_output/jobNum_0/suite2p/plane0/F.npy\n",
      "downloading /n/files/Neurobio/MICROSCOPE/Rich/data/test/suite2p_o2_output/jobNum_0/suite2p/plane0/ops.npy   to   /media/rich/bigSSD/tmp_data/suite2p_o2_output/jobNum_0/suite2p/plane0/ops.npy\n",
      "downloading /n/files/Neurobio/MICROSCOPE/Rich/data/test/suite2p_o2_output/notes.txt   to   /media/rich/bigSSD/tmp_data/suite2p_o2_output/notes.txt\n",
      "downloading /n/files/Neurobio/MICROSCOPE/Rich/data/test/suite2p_o2_output/remote_run_s2p.py   to   /media/rich/bigSSD/tmp_data/suite2p_o2_output/remote_run_s2p.py\n"
     ]
    }
   ],
   "source": [
    "sftp.get_dir(dir_s2pOutput_MICROSCOPE, dir_s2pOutput_local)"
   ]
  },
  {
   "cell_type": "markdown",
   "id": "62eaff3b",
   "metadata": {},
   "source": [
    "## Clean up"
   ]
  },
  {
   "cell_type": "code",
   "execution_count": 43,
   "id": "da9730e4",
   "metadata": {},
   "outputs": [],
   "source": [
    "## delete password\n",
    "del pw\n",
    "gc.collect()\n",
    "\n",
    "## close sftp\n",
    "sftp.close()\n",
    "del sftp"
   ]
  },
  {
   "cell_type": "code",
   "execution_count": 42,
   "id": "00e05413",
   "metadata": {},
   "outputs": [],
   "source": [
    "ssh_t.close()\n",
    "ssh_c.close()"
   ]
  },
  {
   "cell_type": "code",
   "execution_count": null,
   "id": "741da5ca",
   "metadata": {},
   "outputs": [],
   "source": []
  },
  {
   "cell_type": "code",
   "execution_count": null,
   "id": "4cd1f87e",
   "metadata": {},
   "outputs": [],
   "source": []
  }
 ],
 "metadata": {
  "kernelspec": {
   "display_name": "Python 3 (ipykernel)",
   "language": "python",
   "name": "python3"
  },
  "language_info": {
   "codemirror_mode": {
    "name": "ipython",
    "version": 3
   },
   "file_extension": ".py",
   "mimetype": "text/x-python",
   "name": "python",
   "nbconvert_exporter": "python",
   "pygments_lexer": "ipython3",
   "version": "3.8.13"
  }
 },
 "nbformat": 4,
 "nbformat_minor": 5
}
