{
 "cells": [
  {
   "cell_type": "code",
   "execution_count": 4,
   "id": "eb297901",
   "metadata": {},
   "outputs": [
    {
     "data": {
      "text/html": [
       "<style>.container {width:95% !important; }</style>"
      ],
      "text/plain": [
       "<IPython.core.display.HTML object>"
      ]
     },
     "metadata": {},
     "output_type": "display_data"
    }
   ],
   "source": [
    "# ALWAYS RUN THIS CELL\n",
    "# widen jupyter notebook window\n",
    "from IPython.display import display, HTML\n",
    "display(HTML(\"<style>.container {width:95% !important; }</style>\"))"
   ]
  },
  {
   "cell_type": "code",
   "execution_count": 16,
   "id": "47fe1e80",
   "metadata": {},
   "outputs": [],
   "source": [
    "import os\n",
    "from pathlib import Path\n",
    "\n",
    "import paramiko\n",
    "from scp import SCPClient\n",
    "\n",
    "import getpass\n",
    "import gc\n",
    "import time"
   ]
  },
  {
   "cell_type": "code",
   "execution_count": 17,
   "id": "bcbe9934",
   "metadata": {},
   "outputs": [],
   "source": [
    "dir_github = '/media/rich/Home_Linux_partition/github_repos/'\n",
    "import sys\n",
    "sys.path.append(dir_github)\n",
    "\n",
    "%load_ext autoreload\n",
    "%autoreload 2\n",
    "from s2p_on_o2 import util"
   ]
  },
  {
   "cell_type": "code",
   "execution_count": 18,
   "id": "974445f8",
   "metadata": {},
   "outputs": [],
   "source": [
    "# paramiko.util.log_to_file(\"paramiko.log\")"
   ]
  },
  {
   "cell_type": "code",
   "execution_count": null,
   "id": "6612dd5d",
   "metadata": {},
   "outputs": [],
   "source": []
  },
  {
   "cell_type": "markdown",
   "id": "a59717a3",
   "metadata": {},
   "source": [
    "----\n",
    "# ==== Optional ====\n",
    "### transfer raw data from local machine to `MICROSCOPE`"
   ]
  },
  {
   "cell_type": "code",
   "execution_count": 19,
   "id": "9796b799",
   "metadata": {},
   "outputs": [
    {
     "name": "stdout",
     "output_type": "stream",
     "text": [
      "contents of    /media/rich/bigSSD/tmp_data/    will be copied to    /n/files/Neurobio/MICROSCOPE/Rich/data/test\n"
     ]
    }
   ],
   "source": [
    "## Define directories for where the local data is and the remote directory where the contents of that folder should be copied to (MICROSCOPE)\n",
    "dir_data_local = '/media/rich/bigSSD/tmp_data/'\n",
    "dir_data_MICROSCOPE = '/n/files/Neurobio/MICROSCOPE/Rich/data/test'  ## contents of dir_data_local will be dumped into dir_data_MICROSCOPE\n",
    "\n",
    "print(f'contents of    {dir_data_local}    will be copied to    {dir_data_MICROSCOPE}')"
   ]
  },
  {
   "cell_type": "code",
   "execution_count": 20,
   "id": "5c361769",
   "metadata": {},
   "outputs": [
    {
     "name": "stdout",
     "output_type": "stream",
     "text": [
      "Username: rh183\n",
      "Password: ········\n"
     ]
    }
   ],
   "source": [
    "remote_host_transfer = \"transfer.rc.hms.harvard.edu\"\n",
    "remote_host_compute = \"o2.hms.harvard.edu\"\n",
    "username = input('Username: ')\n",
    "pw = util.pw_encode(getpass.getpass(prompt='Password: '))"
   ]
  },
  {
   "cell_type": "markdown",
   "id": "60e56e5a",
   "metadata": {},
   "source": [
    "## Prepare `sftp` and `ssh` objects"
   ]
  },
  {
   "cell_type": "code",
   "execution_count": null,
   "id": "7600dff8",
   "metadata": {},
   "outputs": [],
   "source": [
    "sftp = util.sftp_interface(hostname=\"transfer.rc.hms.harvard.edu\", port=22)\n",
    "sftp.connect(username=username, password=util.pw_decode(pw))"
   ]
  },
  {
   "cell_type": "code",
   "execution_count": 30,
   "id": "ff1c87a6",
   "metadata": {},
   "outputs": [
    {
     "name": "stdout",
     "output_type": "stream",
     "text": [
      "uploading /media/rich/bigSSD/tmp_data/day0_00001_00001.tif   to   /n/files/Neurobio/MICROSCOPE/Rich/data/test/day0_00001_00001.tif\n",
      "uploading /media/rich/bigSSD/tmp_data/day0_00001_00002.tif   to   /n/files/Neurobio/MICROSCOPE/Rich/data/test/day0_00001_00002.tif\n"
     ]
    }
   ],
   "source": [
    "# sftp.mkdir_safe(dir_data_remote)\n",
    "sftp.put_dir(dir_data_local, dir_data_MICROSCOPE)"
   ]
  },
  {
   "cell_type": "code",
   "execution_count": null,
   "id": "1358265a",
   "metadata": {},
   "outputs": [],
   "source": []
  },
  {
   "cell_type": "markdown",
   "id": "6114afcd",
   "metadata": {},
   "source": [
    "------------\n",
    "# ==== Start ===="
   ]
  },
  {
   "cell_type": "markdown",
   "id": "ae33b435",
   "metadata": {},
   "source": [
    "## Prepare username + password"
   ]
  },
  {
   "cell_type": "code",
   "execution_count": 8,
   "id": "2519dbd0",
   "metadata": {},
   "outputs": [
    {
     "name": "stdout",
     "output_type": "stream",
     "text": [
      "Username: rh183\n",
      "Password: ········\n"
     ]
    }
   ],
   "source": [
    "remote_host_transfer = \"transfer.rc.hms.harvard.edu\"\n",
    "remote_host_compute = \"o2.hms.harvard.edu\"\n",
    "username = input('Username: ')\n",
    "pw = util.pw_encode(getpass.getpass(prompt='Password: '))"
   ]
  },
  {
   "cell_type": "markdown",
   "id": "5cbb7d5b",
   "metadata": {},
   "source": [
    "## Prepare `sftp` and `ssh` objects"
   ]
  },
  {
   "cell_type": "code",
   "execution_count": 21,
   "id": "f8dd7849",
   "metadata": {},
   "outputs": [],
   "source": [
    "sftp = util.sftp_interface(hostname=\"transfer.rc.hms.harvard.edu\", port=22)\n",
    "sftp.connect(username=username, password=util.pw_decode(pw))"
   ]
  },
  {
   "cell_type": "code",
   "execution_count": 22,
   "id": "fdf1e2ba",
   "metadata": {},
   "outputs": [
    {
     "name": "stdout",
     "output_type": "stream",
     "text": [
      "Duo two-factor login for rh183\n",
      "\n",
      "Enter a passcode or select one of the following options:\n",
      "\n",
      " 1. Duo Push to XXX-XXX-4151\n",
      " 2. Phone call to XXX-XXX-4151\n",
      " 3. SMS passcodes to XXX-XXX-4151\n",
      "\n",
      "Passcode or option (1-3): \n",
      "1\n",
      "\n",
      "\n",
      "\n",
      "Pushed a login request to your device...\n",
      "\n",
      "Success. Logging you in...\n",
      "\n",
      "Welcome to O2 (Orchestra 2)!\n",
      "\u001b[32m\n",
      "   ___    ____\n",
      "  / _ \\  |___ \\\n",
      " | | | |   __) |\n",
      " | |_| |  / __/\n",
      "  \\___/  |_____|\n",
      "\n",
      "\u001b[0m\n",
      "You've landed on \u001b[33mtransfer03\u001b[0m which is a\n",
      "\u001b[33m4\u001b[0m core system with \u001b[33m7.62 GiB\u001b[0m memory\n",
      "running kernel \u001b[33m3.10.0\u001b[0m born on \u001b[33m2020-07-31\u001b[0m\n",
      "\n",
      "==== O2 ===================================================================\n",
      "\n",
      "  \u001b[31mNews (Jan 3 2022)\u001b[0m\n",
      "  \u001b[37m\n",
      "\n",
      "  +-------------------------------------------------------------------------------+\n",
      "  | ##################### RC Core launched in July 2021 ######################### |\n",
      "  |                                                                               |\n",
      "  | Since July 2021, researchers whose PI does not have a primary or secondary    |\n",
      "  | faculty appointment in an HMS Basic or Social Science Department will incur   |\n",
      "  | charges to their lab for O2 usage. Details at: it.hms.harvard.edu/rc/core     |\n",
      "  +-------------------------------------------------------------------------------+\n",
      "\n",
      "  ------------------------------\n",
      "  Contact HMS Research Computing:\n",
      "\n",
      "  E-mail      rchelp@hms.harvard.edu\n",
      "  Web         it.hms.harvard.edu/rc\n",
      "  Twitter     @hms_rc\n",
      "\n",
      "===========================================================================\n",
      "\n",
      "\u001b[0m\n",
      "\n",
      "(base) [rh183@transfer03 ~]$ \n"
     ]
    }
   ],
   "source": [
    "## initialize ssh_transfer\n",
    "ssh_t = util.ssh_interface(\n",
    "    nbytes_toReceive=20000,\n",
    "    recv_timeout=1,\n",
    "    verbose=True,\n",
    ")\n",
    "ssh_t.o2_connect(\n",
    "    hostname=remote_host_transfer,\n",
    "    username=username,\n",
    "    password=util.pw_decode(pw),\n",
    "    passcode_method=1,\n",
    "    verbose=1,\n",
    "    skip_passcode=False,    \n",
    ")"
   ]
  },
  {
   "cell_type": "code",
   "execution_count": 23,
   "id": "fa578dd5",
   "metadata": {},
   "outputs": [
    {
     "name": "stdout",
     "output_type": "stream",
     "text": [
      "Duo two-factor login for rh183\n",
      "\n",
      "Enter a passcode or select one of the following options:\n",
      "\n",
      " 1. Duo Push to XXX-XXX-4151\n",
      " 2. Phone call to XXX-XXX-4151\n",
      " 3. SMS passcodes to XXX-XXX-4151\n",
      "\n",
      "Passcode or option (1-3): \n",
      "1\n",
      "\n",
      "\n",
      "\n",
      "Pushed a login request to your device...\n",
      "\n",
      "Success. Logging you in...\n",
      "Welcome to O2 (Orchestra 2)!\n",
      "\u001b[32m\n",
      "   ___    ____\n",
      "  / _ \\  |___ \\\n",
      " | | | |   __) |\n",
      " | |_| |  / __/\n",
      "  \\___/  |_____|\n",
      "\n",
      "\u001b[0m\n",
      "You've landed on \u001b[33mlogin05\u001b[0m which is a\n",
      "\u001b[33m8\u001b[0m core system with \u001b[33m15.50 GiB\u001b[0m memory\n",
      "running kernel \u001b[33m3.10.0\u001b[0m born on \u001b[33m2020-07-07\u001b[0m\n",
      "\n",
      "==== O2 ===================================================================\n",
      "\n",
      "  \u001b[31mNews (Jan 3 2022)\u001b[0m\n",
      "  \u001b[37m\n",
      "\n",
      "  +-------------------------------------------------------------------------------+\n",
      "  | ##################### RC Core launched in July 2021 ######################### |\n",
      "  |                                                                               |\n",
      "  | Since July 2021, researchers whose PI does not have a primary or secondary    |\n",
      "  | faculty appointment in an HMS Basic or Social Science Department will incur   |\n",
      "  | charges to their lab for O2 usage. Details at: it.hms.harvard.edu/rc/core     |\n",
      "  +-------------------------------------------------------------------------------+\n",
      "\n",
      "  ------------------------------\n",
      "  Contact HMS Research Computing:\n",
      "\n",
      "  E-mail      rchelp@hms.harvard.edu\n",
      "  Web         it.hms.harvard.edu/rc\n",
      "  Twitter     @hms_rc\n",
      "\n",
      "===========================================================================\n",
      "\n",
      "\u001b[0m\n",
      "\n",
      "(base) [rh183@login05 ~]$ \n"
     ]
    }
   ],
   "source": [
    "## initialize ssh_compute\n",
    "ssh_c = util.ssh_interface(\n",
    "    nbytes_toReceive=20000,\n",
    "    recv_timeout=1,\n",
    "    verbose=True,\n",
    ")\n",
    "ssh_c.o2_connect(\n",
    "    hostname=remote_host_compute,\n",
    "    username=username,\n",
    "    password=util.pw_decode(pw),\n",
    "    passcode_method=1,\n",
    "    verbose=1,\n",
    "    skip_passcode=False,    \n",
    ")"
   ]
  },
  {
   "cell_type": "markdown",
   "id": "558a1158",
   "metadata": {},
   "source": [
    "## Prepare directories"
   ]
  },
  {
   "cell_type": "code",
   "execution_count": 272,
   "id": "0f37b17e",
   "metadata": {},
   "outputs": [
    {
     "name": "stdout",
     "output_type": "stream",
     "text": [
      "contents of    /n/files/Neurobio/MICROSCOPE/Ally/Mesoscope/AEG21/2022_05_14    will be copied to    /n/data1/hms/neurobio/sabatini/rich/data/2pRAM/AEG21/2022_05_14\n"
     ]
    }
   ],
   "source": [
    "## Define directories for where the local data is and the remote directory where the contents of that folder should be copied to\n",
    "name_slurm = 'AEG21_14'\n",
    "\n",
    "dir_data_MICROSCOPE = Path(r'/n/files/Neurobio/MICROSCOPE/Ally/Mesoscope/AEG21/2022_05_14').as_posix()\n",
    "dir_data_remote = Path(r'/n/data1/hms/neurobio/sabatini/rich/data/2pRAM/AEG21/2022_05_14').as_posix()  ## contents of dir_data_local will be dumped into dir_data_remote\n",
    "\n",
    "dir_fastDisk_remote = Path(r'/n/data1/hms/neurobio/sabatini/rich/analysis/suite2p_fastDisk/AEG21/2022_05_14').as_posix()  ## to use for temporary storage\n",
    "\n",
    "\n",
    "dir_S2pOutput_remote = Path(r'/n/data1/hms/neurobio/sabatini/rich/analysis/suite2p_output/AEG21/2022_05_14').as_posix()  ## outer directory. Final outputs will be in an inner directory\n",
    "name_job = 'jobNum_'\n",
    "\n",
    "\n",
    "# path_dispatcher_local = Path(r'C:\\Users\\scanimage\\github_repos\\s2p_on_o2').resolve() / 'dispatcher.py'  ## path to the dispatcher.py file on local computer\n",
    "path_dispatcher_local = Path(r'/media/rich/Home_Linux_partition/github_repos/s2p_on_o2').resolve() / 'dispatcher.py'  ## path to the dispatcher.py file on local computer\n",
    "path_dispatcher_remote = (Path(dir_S2pOutput_remote) / 'dispatcher.py').as_posix()  ## path to where you want the dispatcher.py file to be copied onto the server\n",
    "path_s2pScript_remote = Path(r'/n/data1/hms/neurobio/sabatini/rich/github_repos/s2p_on_o2/remote_run_s2p.py').as_posix()  ## path to a copy of the remote_run_s2p.py file within the s2p_on_o2 repo on the server\n",
    "\n",
    "print(f'contents of    {dir_data_MICROSCOPE}    will be copied to    {dir_data_remote}')"
   ]
  },
  {
   "cell_type": "markdown",
   "id": "31ce097b",
   "metadata": {},
   "source": [
    "## Prepare commands"
   ]
  },
  {
   "cell_type": "code",
   "execution_count": 273,
   "id": "784052a0",
   "metadata": {},
   "outputs": [
    {
     "data": {
      "text/plain": [
       "{'make_dir': 'mkdir -p /n/data1/hms/neurobio/sabatini/rich/data/2pRAM/AEG21/2022_05_14',\n",
       " 'copy_data': 'cp -r /n/files/Neurobio/MICROSCOPE/Ally/Mesoscope/AEG21/2022_05_14/. /n/data1/hms/neurobio/sabatini/rich/data/2pRAM/AEG21/2022_05_14',\n",
       " 'dispatch_s2p': 'python /n/data1/hms/neurobio/sabatini/rich/analysis/suite2p_output/AEG21/2022_05_14/dispatcher.py /n/data1/hms/neurobio/sabatini/rich/analysis/suite2p_output/AEG21/2022_05_14 /n/data1/hms/neurobio/sabatini/rich/github_repos/s2p_on_o2/remote_run_s2p.py jobNum_ /n/data1/hms/neurobio/sabatini/rich/analysis/suite2p_fastDisk/AEG21/2022_05_14 AEG21_14 /n/data1/hms/neurobio/sabatini/rich/data/2pRAM/AEG21/2022_05_14'}"
      ]
     },
     "metadata": {},
     "output_type": "display_data"
    }
   ],
   "source": [
    "## Expectation for dispatch args: \n",
    "# path_selfScript = args[0] = path_dispatcher_remote\n",
    "# dir_save = args[1] = dir_S2pOutput_remote\n",
    "# path_script = args[2] = path_s2pScript_remote\n",
    "# name_job = args[3] = name_job\n",
    "# dir_fastDisk = args[4] = dir_fastDisk_remote\n",
    "# name_slurm = args[5] = name_slurm\n",
    "# dir_data = args[6] = dir_data_remote\n",
    "\n",
    "\n",
    "prompt_snip = f'[{username}'\n",
    "\n",
    "commands = {\n",
    "    'make_dir': f\"mkdir -p {dir_data_remote}\",\n",
    "    'copy_data': f\"cp -r {dir_data_MICROSCOPE}/. {dir_data_remote}\",\n",
    "    'dispatch_s2p': f\"python {str(path_dispatcher_remote)} {dir_S2pOutput_remote} {path_s2pScript_remote} {name_job} {dir_fastDisk_remote} {name_slurm} {dir_data_remote}\"  ## dispatcher expecting these args as inputs\n",
    "}\n",
    "display(commands)"
   ]
  },
  {
   "cell_type": "markdown",
   "id": "f62cb3b7",
   "metadata": {},
   "source": [
    "## Upload `dispatcher.py` file"
   ]
  },
  {
   "cell_type": "code",
   "execution_count": 196,
   "id": "e3e04b05",
   "metadata": {},
   "outputs": [],
   "source": [
    "sftp.mkdir_p(Path(path_dispatcher_remote).parent.as_posix())\n",
    "sftp.sftp.put(str(path_dispatcher_local), str(path_dispatcher_remote));"
   ]
  },
  {
   "cell_type": "markdown",
   "id": "809516d0",
   "metadata": {},
   "source": [
    "## Copy data from `MICROSCOPE` to `data1`"
   ]
  },
  {
   "cell_type": "code",
   "execution_count": 241,
   "id": "efe07e4a",
   "metadata": {},
   "outputs": [
    {
     "name": "stdout",
     "output_type": "stream",
     "text": [
      "mkdir -p /n/data1/hms/neurobio/sabatini/rich/data/2 \r",
      "pRAM/AEG21/2022_05_18\r\n",
      "(base) [rh183@transfer03 ~]$ \n"
     ]
    }
   ],
   "source": [
    "ssh_t.send_receive(commands['make_dir']);\n",
    "\n",
    "ssh_t.send(commands['copy_data'])"
   ]
  },
  {
   "cell_type": "code",
   "execution_count": 242,
   "id": "b5fca55c",
   "metadata": {},
   "outputs": [
    {
     "name": "stdout",
     "output_type": "stream",
     "text": [
      "8G21/2022_05_18/. /n/data1/hms/neurobio/sabatini/rich/data/2pRAM/AEG21/2022_05_1 \n",
      "\n",
      "(base) [rh183@transfer03 ~]$ \n"
     ]
    }
   ],
   "source": [
    "ssh_t.expect(str_success=f'[{username}', recv_timeout=0.3, total_timeout=60*15, sleep_time=0.1, verbose=True);"
   ]
  },
  {
   "cell_type": "markdown",
   "id": "c89ee6cc",
   "metadata": {},
   "source": [
    "## Dispatch `remote_run_s2p.py`"
   ]
  },
  {
   "cell_type": "code",
   "execution_count": 197,
   "id": "41c870b8",
   "metadata": {},
   "outputs": [
    {
     "name": "stdout",
     "output_type": "stream",
     "text": [
      "squeue -u rh183 --Format=jobid,name,partition,state,ti \r",
      "meused,starttime,timelimit,reasonlist,minmemory,mincpus,gres\r\n",
      "JOBID               NAME                PARTITION           STATE               TIME                START_TIME          TIME_LIMIT          NODELIST(REASON)    MIN_MEMORY          MIN_CPUS            TRES_PER_NODE       \r\n",
      "53523653            AEG21_14            gpu_requeue         PENDING             0:00                N/A                 6:00:00             (QOSMinGRES)        240G                20                  N/A                 \r\n",
      "53524600            AEG22_16            gpu_requeue         PENDING             0:00                2022-05-19T10:47:24 6:00:00             (Resources)         240G                20                  gres:gpu:rtx6000:1  \r\n",
      "53524599            AEG22_14            gpu_requeue         RUNNING             3:34                2022-05-19T04:48:31 6:00:00             compute-gc-17-247   240G                20                  gres:gpu:rtx6000:1  \r\n",
      "53524588            AEG22_13            gpu_requeue         RUNNING             4:41                2022-05-19T04:47:24 6:00:00             compute-gc-17-246   240G                20                  gres:gpu:rtx6000:1  \r\n",
      "53524567            AEG21_18            gpu_requeue         RUNNING             6:46                2022-05-19T04:45:19 6:00:00             compute-gc-17-245   240G                20                  gres:gpu:rtx6000:1  \r\n",
      "53524624            AEG22_18            priority            PENDING             0:00                N/A                 6:00:00             (QOSMaxJobsPerUserLi240G                20                  N/A                 \r\n",
      "53524611            AEG22_17            priority            PENDING             0:00                N/A                 6:00:00             (QOSMaxJobsPerUserLi240G                20                  N/A                 \r\n",
      "53524551            AEG21_17            priority            RUNNING             9:15                2022-05-19T04:42:50 6:00:00             compute-e-16-235    240G                20                  N/A                 \r\n",
      "53524550            AEG21_16            priority            RUNNING             9:49                2022-05-19T04:42:16 6:00:00             compute-e-16-230    240G                20                  N/A                 \r\n",
      "53523293            AEG21_13            short               PENDING             0:00                2022-05-19T07:00:01 6:00:00             (Resources)         240G                20                  N/A                 \r\n",
      "(base) [rh183@login05 ~]$ \n"
     ]
    }
   ],
   "source": [
    "ssh_c.send(commands['dispatch_s2p']);\n",
    "\n",
    "ssh_c.expect(str_success=prompt_snip);"
   ]
  },
  {
   "cell_type": "markdown",
   "id": "e6ea7494",
   "metadata": {},
   "source": [
    "### check on job"
   ]
  },
  {
   "cell_type": "code",
   "execution_count": 206,
   "id": "25e01375",
   "metadata": {
    "scrolled": false
   },
   "outputs": [
    {
     "name": "stdout",
     "output_type": "stream",
     "text": [
      "squeue -u rh183 --Format=jobid,name,partition,state,ti \r",
      "meused,starttime,timelimit,reasonlist,minmemory,mincpus,gres\r\n",
      "JOBID               NAME                PARTITION           STATE               TIME                START_TIME          TIME_LIMIT          NODELIST(REASON)    MIN_MEMORY          MIN_CPUS            TRES_PER_NODE       \r\n",
      "53524600            AEG22_16            gpu_requeue         PENDING             0:00                2022-05-19T10:47:24 6:00:00             (Resources)         240G                20                  gres:gpu:rtx6000:1  \r\n",
      "53524599            AEG22_14            gpu_requeue         RUNNING             14:00               2022-05-19T04:48:31 6:00:00             compute-gc-17-247   240G                20                  gres:gpu:rtx6000:1  \r\n",
      "53524588            AEG22_13            gpu_requeue         RUNNING             15:07               2022-05-19T04:47:24 6:00:00             compute-gc-17-246   240G                20                  gres:gpu:rtx6000:1  \r\n",
      "53524567            AEG21_18            gpu_requeue         RUNNING             17:12               2022-05-19T04:45:19 6:00:00             compute-gc-17-245   240G                20                  gres:gpu:rtx6000:1  \r\n",
      "53524611            AEG22_17            priority            PENDING             0:00                N/A                 6:00:00             (QOSMaxJobsPerUserLi240G                20                  N/A                 \r\n",
      "53524624            AEG22_18            priority            PENDING             0:00                N/A                 6:00:00             (QOSMaxJobsPerUserLi240G                20                  N/A                 \r\n",
      "53524625            AEG21_14            priority            PENDING             0:00                N/A                 6:00:00             (QOSMaxJobsPerUserLi240G                20                  N/A                 \r\n",
      "53524551            AEG21_17            priority            RUNNING             19:41               2022-05-19T04:42:50 6:00:00             compute-e-16-235    240G                20                  N/A                 \r\n",
      "53524550            AEG21_16            priority            RUNNING             20:15               2022-05-19T04:42:16 6:00:00             compute-e-16-230    240G                20                  N/A                 \r\n",
      "53523293            AEG21_13            short               PENDING             0:00                2022-05-19T07:00:01 6:00:00             (Resources)         240G                20                  N/A                 \r\n",
      "(base) [rh183@login05 ~]$ \n"
     ]
    }
   ],
   "source": [
    "ssh_c.send(cmd=f'squeue -u {username} --Format=jobid,name,partition,state,timeused,starttime,timelimit,reasonlist,minmemory,mincpus,gres');\n",
    "ssh_c.expect(str_success=f\"[{username}\", total_timeout=1);"
   ]
  },
  {
   "cell_type": "code",
   "execution_count": 319,
   "id": "90f66b59",
   "metadata": {},
   "outputs": [
    {
     "name": "stdout",
     "output_type": "stream",
     "text": [
      "cat /n/data1/hms/neurobio/sabatini/rich/analysis/suite \r",
      "2p_output/AEG21/2022_05_13/jobNum_0/print*\r\n",
      "\n",
      "cat: /n/data1/hms/neurobio/sabatini/rich/analysis/suite2p_output/AEG21/2022_05_13/jobNum_0/print*: No such file or directory\r\n",
      "(base) [rh183@login06 ~]$ \n"
     ]
    }
   ],
   "source": [
    "## I think this code block caused an out of memory error on a few of my jobs... not sure why\n",
    "\n",
    "# ssh_c.send(cmd=f\"cat {(Path(dir_S2pOutput_remote) / (name_job+'0') / 'print*').as_posix()}\")\n",
    "# ssh_c.expect(str_success=f\"[{username}\", total_timeout=1);"
   ]
  },
  {
   "cell_type": "code",
   "execution_count": 27,
   "id": "c99f5ab7",
   "metadata": {
    "scrolled": true
   },
   "outputs": [
    {
     "name": "stdout",
     "output_type": "stream",
     "text": [
      "RUN COMPLETE!!!     Tue May 17 14:52:20 2022\n"
     ]
    }
   ],
   "source": [
    "ssh_c.send(cmd=f\"cat {(Path(dir_S2pOutput_remote) / (name_job+'0') / 'print*').as_posix()}\")\n",
    "ssh_c.expect(str_success=f\"RUN COMPLETE\", recv_timeout=0.3, total_timeout=60*60*10, sleep_time=0.1, verbose=False);\n",
    "\n",
    "print(f'RUN COMPLETE!!!     {time.ctime()}')"
   ]
  },
  {
   "cell_type": "markdown",
   "id": "33600579",
   "metadata": {},
   "source": [
    "## Clean up"
   ]
  },
  {
   "cell_type": "code",
   "execution_count": null,
   "id": "b31f6bcb",
   "metadata": {},
   "outputs": [],
   "source": [
    "## delete password\n",
    "del pw\n",
    "gc.collect()\n",
    "\n",
    "## close sftp\n",
    "if sftp: sftp.close()\n",
    "if transport: transport.close()\n",
    "del sftp\n",
    "del transport\n",
    "    \n",
    "## close ssh\n",
    "ssh_t.close()\n",
    "del ssh_t\n",
    "ssh_c.close()\n",
    "del ssh_c\n",
    "gc.collect()"
   ]
  },
  {
   "cell_type": "code",
   "execution_count": null,
   "id": "211f8398",
   "metadata": {},
   "outputs": [],
   "source": []
  },
  {
   "cell_type": "code",
   "execution_count": null,
   "id": "b1e29db0",
   "metadata": {},
   "outputs": [],
   "source": []
  },
  {
   "cell_type": "markdown",
   "id": "bc0f7b70",
   "metadata": {},
   "source": [
    "----\n",
    "# ==== Optional ====\n",
    "### transfer s2p outputs back from `data1` to `MICROSCOPE`"
   ]
  },
  {
   "cell_type": "markdown",
   "id": "ee823e31",
   "metadata": {},
   "source": [
    "## Prepare username + password"
   ]
  },
  {
   "cell_type": "code",
   "execution_count": 5,
   "id": "bc43abdd",
   "metadata": {},
   "outputs": [
    {
     "name": "stdout",
     "output_type": "stream",
     "text": [
      "Username: rh183\n",
      "Password: ········\n"
     ]
    }
   ],
   "source": [
    "remote_host_transfer = \"transfer.rc.hms.harvard.edu\"\n",
    "remote_host_compute = \"o2.hms.harvard.edu\"\n",
    "username = input('Username: ')\n",
    "pw = util.pw_encode(getpass.getpass(prompt='Password: '))"
   ]
  },
  {
   "cell_type": "markdown",
   "id": "d8d54f22",
   "metadata": {},
   "source": [
    "## Prepare `ssh` object"
   ]
  },
  {
   "cell_type": "code",
   "execution_count": null,
   "id": "38d10e50",
   "metadata": {},
   "outputs": [],
   "source": [
    "## initialize ssh_transfer\n",
    "ssh_t = util.ssh_interface(\n",
    "    nbytes_toReceive=4096,\n",
    "    recv_timeout=1,\n",
    "    verbose=True,\n",
    ")\n",
    "ssh_t.o2_connect(\n",
    "    hostname=remote_host_transfer,\n",
    "    username=username,\n",
    "    password=util.pw_decode(pw),\n",
    "    passcode_method=1,\n",
    "    verbose=1,\n",
    "    skip_passcode=False,\n",
    ")"
   ]
  },
  {
   "cell_type": "code",
   "execution_count": 274,
   "id": "4a74693f",
   "metadata": {},
   "outputs": [
    {
     "name": "stdout",
     "output_type": "stream",
     "text": [
      "contents of    /n/data1/hms/neurobio/sabatini/rich/analysis/suite2p_output/AEG21/2022_05_14    will be copied to    /n/files/Neurobio/MICROSCOPE/Ally/Mesoscope/AEG21/2022_05_14/suite2p_o2_output\n"
     ]
    }
   ],
   "source": [
    "dir_S2pOutput_remote = dir_S2pOutput_remote  ## from above\n",
    "dir_s2pOutput_MICROSCOPE = (Path(dir_data_MICROSCOPE) / 'suite2p_o2_output').as_posix()  ## from above\n",
    "print(f'contents of    {dir_S2pOutput_remote}    will be copied to    {dir_s2pOutput_MICROSCOPE}')"
   ]
  },
  {
   "cell_type": "code",
   "execution_count": 275,
   "id": "53d3fc7d",
   "metadata": {},
   "outputs": [
    {
     "data": {
      "text/plain": [
       "{'make_dir': 'mkdir -p /n/files/Neurobio/MICROSCOPE/Ally/Mesoscope/AEG21/2022_05_14/suite2p_o2_output',\n",
       " 'copy_s2p': 'cp -r /n/data1/hms/neurobio/sabatini/rich/analysis/suite2p_output/AEG21/2022_05_14/. /n/files/Neurobio/MICROSCOPE/Ally/Mesoscope/AEG21/2022_05_14/suite2p_o2_output'}"
      ]
     },
     "metadata": {},
     "output_type": "display_data"
    }
   ],
   "source": [
    "commands = {\n",
    "    'make_dir': f\"mkdir -p {dir_s2pOutput_MICROSCOPE}\",\n",
    "    'copy_s2p': f\"cp -r {(Path(dir_S2pOutput_remote)).as_posix()}/. {dir_s2pOutput_MICROSCOPE}\",\n",
    "}\n",
    "display(commands)"
   ]
  },
  {
   "cell_type": "code",
   "execution_count": 276,
   "id": "0d9854ac",
   "metadata": {},
   "outputs": [
    {
     "name": "stdout",
     "output_type": "stream",
     "text": [
      "mkdir -p /n/files/Neurobio/MICROSCOPE/Ally/Mesoscop \r",
      "e/AEG21/2022_05_14/suite2p_o2_output\r\n",
      "\n"
     ]
    }
   ],
   "source": [
    "ssh_t.send_receive(commands['make_dir']);"
   ]
  },
  {
   "cell_type": "code",
   "execution_count": 277,
   "id": "728e4e88",
   "metadata": {},
   "outputs": [
    {
     "name": "stdout",
     "output_type": "stream",
     "text": [
      "(base) [rh183@transfer03 ~]$ \n"
     ]
    }
   ],
   "source": [
    "ssh_t.send(commands['copy_s2p'])\n",
    "ssh_t.expect(str_success=f'[{username}', total_timeout=120, verbose=True);"
   ]
  },
  {
   "cell_type": "code",
   "execution_count": null,
   "id": "2d0f096e",
   "metadata": {},
   "outputs": [],
   "source": []
  },
  {
   "cell_type": "markdown",
   "id": "0097eadc",
   "metadata": {},
   "source": [
    "## Clean up"
   ]
  },
  {
   "cell_type": "code",
   "execution_count": null,
   "id": "b01e88d4",
   "metadata": {},
   "outputs": [],
   "source": [
    "## delete password\n",
    "del pw\n",
    "gc.collect()\n",
    "    \n",
    "## close ssh\n",
    "ssh_t.close()\n",
    "del ssh_t\n",
    "gc.collect()"
   ]
  },
  {
   "cell_type": "code",
   "execution_count": null,
   "id": "cc4d73d5",
   "metadata": {},
   "outputs": [],
   "source": []
  },
  {
   "cell_type": "markdown",
   "id": "607fe8d3",
   "metadata": {},
   "source": [
    "----\n",
    "# ==== Optional ====\n",
    "### transfer s2p outputs from `MICROSCOPE` to local machine"
   ]
  },
  {
   "cell_type": "code",
   "execution_count": 39,
   "id": "f443018b",
   "metadata": {},
   "outputs": [
    {
     "name": "stdout",
     "output_type": "stream",
     "text": [
      "contents of    /n/files/Neurobio/MICROSCOPE/Rich/data/test/suite2p_o2_output    will be copied to    /media/rich/bigSSD/tmp_data/suite2p_o2_output\n"
     ]
    }
   ],
   "source": [
    "dir_s2pOutput_MICROSCOPE = dir_s2pOutput_MICROSCOPE  ## from above\n",
    "dir_s2pOutput_local = str(Path(dir_data_local).resolve() / 'suite2p_o2_output')\n",
    "print(f'contents of    {dir_s2pOutput_MICROSCOPE}    will be copied to    {dir_s2pOutput_local}')"
   ]
  },
  {
   "cell_type": "code",
   "execution_count": 57,
   "id": "6721d7c7",
   "metadata": {},
   "outputs": [
    {
     "name": "stdout",
     "output_type": "stream",
     "text": [
      "Username: rh183\n",
      "Password: ········\n"
     ]
    }
   ],
   "source": [
    "remote_host_transfer = \"transfer.rc.hms.harvard.edu\"\n",
    "remote_host_compute = \"o2.hms.harvard.edu\"\n",
    "username = input('Username: ')\n",
    "pw = util.pw_encode(getpass.getpass(prompt='Password: '))"
   ]
  },
  {
   "cell_type": "markdown",
   "id": "055b0c6c",
   "metadata": {},
   "source": [
    "## Prepare `sftp` and `ssh` objects"
   ]
  },
  {
   "cell_type": "code",
   "execution_count": 40,
   "id": "b91b33b2",
   "metadata": {},
   "outputs": [],
   "source": [
    "sftp = util.sftp_interface(hostname=\"transfer.rc.hms.harvard.edu\", port=22)\n",
    "sftp.connect(username=username, password=util.pw_decode(pw))"
   ]
  },
  {
   "cell_type": "code",
   "execution_count": 41,
   "id": "c0e3af30",
   "metadata": {},
   "outputs": [
    {
     "name": "stdout",
     "output_type": "stream",
     "text": [
      "downloading /n/files/Neurobio/MICROSCOPE/Rich/data/test/suite2p_o2_output/jobNum_0/params.json   to   /media/rich/bigSSD/tmp_data/suite2p_o2_output/jobNum_0/params.json\n",
      "downloading /n/files/Neurobio/MICROSCOPE/Rich/data/test/suite2p_o2_output/jobNum_0/print_log_53419173.log   to   /media/rich/bigSSD/tmp_data/suite2p_o2_output/jobNum_0/print_log_53419173.log\n",
      "downloading /n/files/Neurobio/MICROSCOPE/Rich/data/test/suite2p_o2_output/jobNum_0/batch_run_output.png   to   /media/rich/bigSSD/tmp_data/suite2p_o2_output/jobNum_0/batch_run_output.png\n",
      "downloading /n/files/Neurobio/MICROSCOPE/Rich/data/test/suite2p_o2_output/jobNum_0/log.txt   to   /media/rich/bigSSD/tmp_data/suite2p_o2_output/jobNum_0/log.txt\n",
      "downloading /n/files/Neurobio/MICROSCOPE/Rich/data/test/suite2p_o2_output/jobNum_0/sbatch_config.sh   to   /media/rich/bigSSD/tmp_data/suite2p_o2_output/jobNum_0/sbatch_config.sh\n",
      "downloading /n/files/Neurobio/MICROSCOPE/Rich/data/test/suite2p_o2_output/jobNum_0/remote_run_s2p.py   to   /media/rich/bigSSD/tmp_data/suite2p_o2_output/jobNum_0/remote_run_s2p.py\n",
      "downloading /n/files/Neurobio/MICROSCOPE/Rich/data/test/suite2p_o2_output/jobNum_0/suite2p/plane0/spks.npy   to   /media/rich/bigSSD/tmp_data/suite2p_o2_output/jobNum_0/suite2p/plane0/spks.npy\n",
      "downloading /n/files/Neurobio/MICROSCOPE/Rich/data/test/suite2p_o2_output/jobNum_0/suite2p/plane0/stat.npy   to   /media/rich/bigSSD/tmp_data/suite2p_o2_output/jobNum_0/suite2p/plane0/stat.npy\n",
      "downloading /n/files/Neurobio/MICROSCOPE/Rich/data/test/suite2p_o2_output/jobNum_0/suite2p/plane0/Fneu.npy   to   /media/rich/bigSSD/tmp_data/suite2p_o2_output/jobNum_0/suite2p/plane0/Fneu.npy\n",
      "downloading /n/files/Neurobio/MICROSCOPE/Rich/data/test/suite2p_o2_output/jobNum_0/suite2p/plane0/iscell.npy   to   /media/rich/bigSSD/tmp_data/suite2p_o2_output/jobNum_0/suite2p/plane0/iscell.npy\n",
      "downloading /n/files/Neurobio/MICROSCOPE/Rich/data/test/suite2p_o2_output/jobNum_0/suite2p/plane0/F.npy   to   /media/rich/bigSSD/tmp_data/suite2p_o2_output/jobNum_0/suite2p/plane0/F.npy\n",
      "downloading /n/files/Neurobio/MICROSCOPE/Rich/data/test/suite2p_o2_output/jobNum_0/suite2p/plane0/ops.npy   to   /media/rich/bigSSD/tmp_data/suite2p_o2_output/jobNum_0/suite2p/plane0/ops.npy\n",
      "downloading /n/files/Neurobio/MICROSCOPE/Rich/data/test/suite2p_o2_output/notes.txt   to   /media/rich/bigSSD/tmp_data/suite2p_o2_output/notes.txt\n",
      "downloading /n/files/Neurobio/MICROSCOPE/Rich/data/test/suite2p_o2_output/remote_run_s2p.py   to   /media/rich/bigSSD/tmp_data/suite2p_o2_output/remote_run_s2p.py\n"
     ]
    }
   ],
   "source": [
    "sftp.get_dir(dir_s2pOutput_MICROSCOPE, dir_s2pOutput_local)"
   ]
  },
  {
   "cell_type": "markdown",
   "id": "4254abee",
   "metadata": {},
   "source": [
    "## Clean up"
   ]
  },
  {
   "cell_type": "code",
   "execution_count": 43,
   "id": "0e42b263",
   "metadata": {},
   "outputs": [],
   "source": [
    "## delete password\n",
    "del pw\n",
    "gc.collect()\n",
    "\n",
    "## close sftp\n",
    "sftp.close()\n",
    "del sftp"
   ]
  },
  {
   "cell_type": "code",
   "execution_count": 42,
   "id": "5059b009",
   "metadata": {},
   "outputs": [],
   "source": [
    "ssh_t.close()\n",
    "ssh_c.close()"
   ]
  },
  {
   "cell_type": "code",
   "execution_count": null,
   "id": "a2ee21fd",
   "metadata": {},
   "outputs": [],
   "source": []
  },
  {
   "cell_type": "code",
   "execution_count": null,
   "id": "388fbb4e",
   "metadata": {},
   "outputs": [],
   "source": []
  }
 ],
 "metadata": {
  "kernelspec": {
   "display_name": "Python 3 (ipykernel)",
   "language": "python",
   "name": "python3"
  },
  "language_info": {
   "codemirror_mode": {
    "name": "ipython",
    "version": 3
   },
   "file_extension": ".py",
   "mimetype": "text/x-python",
   "name": "python",
   "nbconvert_exporter": "python",
   "pygments_lexer": "ipython3",
   "version": "3.8.12"
  }
 },
 "nbformat": 4,
 "nbformat_minor": 5
}
