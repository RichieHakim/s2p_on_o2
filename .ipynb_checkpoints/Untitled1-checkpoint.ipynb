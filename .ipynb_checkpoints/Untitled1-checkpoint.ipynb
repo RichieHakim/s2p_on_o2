{
 "cells": [
  {
   "cell_type": "code",
   "execution_count": 1,
   "id": "eb297901",
   "metadata": {},
   "outputs": [
    {
     "data": {
      "text/html": [
       "<style>.container {width:95% !important; }</style>"
      ],
      "text/plain": [
       "<IPython.core.display.HTML object>"
      ]
     },
     "metadata": {},
     "output_type": "display_data"
    }
   ],
   "source": [
    "# ALWAYS RUN THIS CELL\n",
    "# widen jupyter notebook window\n",
    "from IPython.display import display, HTML\n",
    "display(HTML(\"<style>.container {width:95% !important; }</style>\"))\n"
   ]
  },
  {
   "cell_type": "code",
   "execution_count": 2,
   "id": "47fe1e80",
   "metadata": {},
   "outputs": [],
   "source": [
    "import os\n",
    "from pathlib import Path, PurePath"
   ]
  },
  {
   "cell_type": "code",
   "execution_count": 3,
   "id": "19a7b6b9",
   "metadata": {},
   "outputs": [
    {
     "name": "stderr",
     "output_type": "stream",
     "text": [
      "/media/rich/OS/Users/Richard/Linux_stuff_on_OS/conda_envs/envs/suite2p/lib/python3.8/site-packages/paramiko/transport.py:236: CryptographyDeprecationWarning: Blowfish has been deprecated\n",
      "  \"class\": algorithms.Blowfish,\n"
     ]
    }
   ],
   "source": [
    "import paramiko\n",
    "from scp import SCPClient\n",
    "\n",
    "import getpass\n",
    "import gc"
   ]
  },
  {
   "cell_type": "code",
   "execution_count": 4,
   "id": "9ab156fa",
   "metadata": {},
   "outputs": [],
   "source": [
    "dir_github = '/media/rich/Home_Linux_partition/github_repos/'\n",
    "import sys\n",
    "sys.path.append(dir_github)\n",
    "\n",
    "%load_ext autoreload\n",
    "%autoreload 2\n",
    "from s2p_on_o2 import util"
   ]
  },
  {
   "cell_type": "code",
   "execution_count": 5,
   "id": "3861ef8f",
   "metadata": {},
   "outputs": [],
   "source": [
    "# paramiko.util.log_to_file(\"paramiko.log\")"
   ]
  },
  {
   "cell_type": "code",
   "execution_count": 41,
   "id": "a44b0f1c",
   "metadata": {},
   "outputs": [
    {
     "name": "stdout",
     "output_type": "stream",
     "text": [
      "contents of    /n/files/Neurobio/MICROSCOPE/Rich/data/test1/    will be copied to    /n/data1/hms/neurobio/sabatini/rich/analysis/suite2p_output    using fxp protocol\n"
     ]
    }
   ],
   "source": [
    "dir_S2pOutput_remote = '/n/data1/hms/neurobio/sabatini/rich/analysis/suite2p_output/testRun'  ## outer directory. Final outputs will be in an inner directory\n",
    "folderName_batch_save = 'testRun_'  ## name of inner folder that will be created\n",
    "\n",
    "\n",
    "path_dispatcher_local = Path(r'/media/rich/Home_Linux_partition/github_repos/s2p_on_o2/').resolve() / 'dispatcher.py'  ## path to the dispatcher.py file on local computer\n",
    "path_dispatcher_remote = Path(r'/n/data1/hms/neurobio/sabatini/rich/analysis/suite2p_output/') / 'dispatcher.py'  ## path to where you want the dispatcher.py file to be copied onto the server\n",
    "\n",
    "\n",
    "## Define directories for where the local data is and the remote directory where the contents of that folder should be copied to\n",
    "dir_data_local = '/n/files/Neurobio/MICROSCOPE/Rich/data/test1/'\n",
    "dir_data_remote = '/n/data1/hms/neurobio/sabatini/rich/analysis/suite2p_output'  ## outer directory that the dir_data_local's leaf folder will be copied into\n",
    "mode_transfer = 'fxp'  ## either ftp (from local machine to server) or fxp (server to server)\n",
    "print(f'contents of    {dir_data_local}    will be copied to    {dir_data_remote}    using {mode_transfer} protocol')"
   ]
  },
  {
   "cell_type": "raw",
   "id": "9d51bd44",
   "metadata": {},
   "source": [
    "define parameters on local\n",
    "make batch script to run on o2\n",
    "ssh into remote\n",
    "copy batch script to output folder\n",
    "run batch script\n",
    "batch script calls instance and main script within it\n",
    "main script runs s2p and saves outputs to outputfolder"
   ]
  },
  {
   "cell_type": "raw",
   "id": "a832b953",
   "metadata": {},
   "source": [
    "define parameters within the local dispatcher.py file\n",
    "sftp into remote and copy local dispatcher to remote\n",
    "copy data files from MICROSCOPE to data1\n",
    "ssh into remote and call remote dispatcher"
   ]
  },
  {
   "cell_type": "code",
   "execution_count": 7,
   "id": "7b2ca5ef",
   "metadata": {},
   "outputs": [],
   "source": [
    "def pw_encode(pw):\n",
    "    import base64\n",
    "    return base64.b64encode(pw.encode(\"utf-8\"))\n",
    "def pw_decode(pw):\n",
    "    import base64\n",
    "    return base64.b64decode(pw).decode(\"utf-8\")"
   ]
  },
  {
   "cell_type": "code",
   "execution_count": 9,
   "id": "ae2cfe5f",
   "metadata": {},
   "outputs": [
    {
     "name": "stdout",
     "output_type": "stream",
     "text": [
      "Username: rh183\n",
      "Password: ········\n"
     ]
    }
   ],
   "source": [
    "remote_host = \"transfer.rc.hms.harvard.edu\"\n",
    "username = input('Username: ')\n",
    "pw = pw_encode(getpass.getpass(prompt='Password: '))"
   ]
  },
  {
   "cell_type": "code",
   "execution_count": 10,
   "id": "35bfa387",
   "metadata": {},
   "outputs": [],
   "source": [
    "## Copy dispatcher.py file to server\n",
    "\n",
    "transport = paramiko.Transport((remote_host, 22))  ## open a transport object\n",
    "transport.connect(None, username, pw_decode(pw))  ## authorization\n",
    "sftp = paramiko.SFTPClient.from_transport(transport)  ## open sftp\n",
    "\n",
    "# Upload\n",
    "sftp.put(str(path_dispatcher_local), str(path_dispatcher_remote))\n",
    "\n",
    "# Close\n",
    "if sftp: sftp.close()\n",
    "if transport: transport.close()"
   ]
  },
  {
   "cell_type": "code",
   "execution_count": null,
   "id": "72ca6df3",
   "metadata": {},
   "outputs": [],
   "source": []
  },
  {
   "cell_type": "code",
   "execution_count": 11,
   "id": "c9479682",
   "metadata": {},
   "outputs": [],
   "source": [
    "ssh = util.ssh_interface(\n",
    "    nbytes_toReceive=4096,\n",
    "    recv_timeout=1,\n",
    "    verbose=True,\n",
    ")"
   ]
  },
  {
   "cell_type": "code",
   "execution_count": 12,
   "id": "08479765",
   "metadata": {},
   "outputs": [
    {
     "name": "stdout",
     "output_type": "stream",
     "text": [
      "Duo two-factor login for rh183\n",
      "\n",
      "Enter a passcode or select one of the following options:\n",
      "\n",
      " 1. Duo Push to XXX-XXX-4151\n",
      " 2. Phone call to XXX-XXX-4151\n",
      " 3. SMS passcodes to XXX-XXX-4151\n",
      "\n",
      "Passcode or option (1-3): \n",
      "1\n",
      "\n",
      "\n",
      "\n",
      "Pushed a login request to your device...\n",
      "\n",
      "Success. Logging you in...\n",
      "\n",
      "Welcome to O2 (Orchestra 2)!\n",
      "\u001b[32m\n",
      "   ___    ____\n",
      "  / _ \\  |___ \\\n",
      " | | | |   __) |\n",
      " | |_| |  / __/\n",
      "  \\___/  |_____|\n",
      "\n",
      "\u001b[0m\n",
      "You've landed on \u001b[33mtransfer02\u001b[0m which is a\n",
      "\u001b[33m4\u001b[0m core system with \u001b[33m7.62 GiB\u001b[0m memory\n",
      "running kernel \u001b[33m3.10.0\u001b[0m born on \u001b[33m2021-10-22\u001b[0m\n",
      "\n",
      "==== O2 ===================================================================\n",
      "\n",
      "  \u001b[31mNews (Jan 3 2022)\u001b[0m\n",
      "  \u001b[37m\n",
      "\n",
      "  +-------------------------------------------------------------------------------+\n",
      "  | ##################### RC Core launched in July 2021 ######################### |\n",
      "  |                                                                               |\n",
      "  | Since July 2021, researchers whose PI does not have a primary or secondary    |\n",
      "  | faculty appointment in an HMS Basic or Social Science Department will incur   |\n",
      "  | charges to their lab for O2 usage. Details at: it.hms.harvard.edu/rc/core     |\n",
      "  +-------------------------------------------------------------------------------+\n",
      "\n",
      "  ------------------------------\n",
      "  Contact HMS Research Computing:\n",
      "\n",
      "  E-mail      rchelp@hms.harvard.edu\n",
      "  Web         it.hms.harvard.edu/rc\n",
      "  Twitter     @hms_rc\n",
      "\n",
      "===========================================================================\n",
      "\n",
      "\u001b[0m\n",
      "\n",
      "(base) [rh183@transfer02 ~]$ \n"
     ]
    }
   ],
   "source": [
    "ssh.o2_connect(\n",
    "    hostname=remote_host,\n",
    "    username=username,\n",
    "    password=pw_decode(pw),\n",
    "    passcode_method=1,\n",
    "    verbose=1,\n",
    ")"
   ]
  },
  {
   "cell_type": "code",
   "execution_count": 45,
   "id": "d0713057",
   "metadata": {},
   "outputs": [],
   "source": [
    "prompt_snip = f'[{username}'"
   ]
  },
  {
   "cell_type": "code",
   "execution_count": 42,
   "id": "23d133d5",
   "metadata": {},
   "outputs": [],
   "source": [
    "commands = [\n",
    "    f\"mkdir {dir_data_remote}\",\n",
    "    f\"cp -r {dir_data_local} {dir_data_remote}\", \n",
    "    f\"python {str(path_dispatcher_remote)}\"\n",
    "]"
   ]
  },
  {
   "cell_type": "code",
   "execution_count": 48,
   "id": "a68b8c52",
   "metadata": {},
   "outputs": [
    {
     "data": {
      "text/plain": [
       "['mkdir /n/data1/hms/neurobio/sabatini/rich/analysis/suite2p_output',\n",
       " 'cp -r /n/files/Neurobio/MICROSCOPE/Rich/data/test1/ /n/data1/hms/neurobio/sabatini/rich/analysis/suite2p_output',\n",
       " 'python /n/data1/hms/neurobio/sabatini/rich/analysis/suite2p_output/dispatcher.py']"
      ]
     },
     "metadata": {},
     "output_type": "display_data"
    }
   ],
   "source": [
    "display(commands)"
   ]
  },
  {
   "cell_type": "code",
   "execution_count": 47,
   "id": "028e234a",
   "metadata": {},
   "outputs": [
    {
     "name": "stdout",
     "output_type": "stream",
     "text": [
      "mkdir /n/data1/hms/neurobio/sabatini/rich/analys \r",
      "is/suite2p_output\r\n",
      "mkdir: cannot create directory ‘/n/data1/hms/neurobio/sabatini/rich/analysis/suite2p_output’: File exists\r\n",
      "(base) [rh183@transfer02 data]$ \n"
     ]
    }
   ],
   "source": [
    "ssh.send_receive(commands[0]);"
   ]
  },
  {
   "cell_type": "code",
   "execution_count": 46,
   "id": "91e495c9",
   "metadata": {},
   "outputs": [
    {
     "name": "stdout",
     "output_type": "stream",
     "text": [
      "t1/ /n/data1/hms/neurobio/sabatini/rich/analysis/suite2p_output\n",
      "\n",
      "(base) [rh183@transfer02 data]$ \n"
     ]
    }
   ],
   "source": [
    "ssh.send(commands[1])\n",
    "ssh.expect(str_success=prompt_snip, total_timeout=120, verbose=True);"
   ]
  },
  {
   "cell_type": "code",
   "execution_count": null,
   "id": "aba762c1",
   "metadata": {},
   "outputs": [],
   "source": []
  },
  {
   "cell_type": "code",
   "execution_count": null,
   "id": "4039ed06",
   "metadata": {},
   "outputs": [],
   "source": []
  },
  {
   "cell_type": "code",
   "execution_count": null,
   "id": "8cffd702",
   "metadata": {},
   "outputs": [],
   "source": []
  },
  {
   "cell_type": "code",
   "execution_count": null,
   "id": "fe2cfd5a",
   "metadata": {},
   "outputs": [],
   "source": []
  },
  {
   "cell_type": "code",
   "execution_count": null,
   "id": "d785711d",
   "metadata": {},
   "outputs": [],
   "source": []
  },
  {
   "cell_type": "code",
   "execution_count": null,
   "id": "d2acf3d2",
   "metadata": {},
   "outputs": [],
   "source": []
  },
  {
   "cell_type": "code",
   "execution_count": null,
   "id": "dab711b2",
   "metadata": {},
   "outputs": [],
   "source": []
  }
 ],
 "metadata": {
  "kernelspec": {
   "display_name": "Python 3 (ipykernel)",
   "language": "python",
   "name": "python3"
  },
  "language_info": {
   "codemirror_mode": {
    "name": "ipython",
    "version": 3
   },
   "file_extension": ".py",
   "mimetype": "text/x-python",
   "name": "python",
   "nbconvert_exporter": "python",
   "pygments_lexer": "ipython3",
   "version": "3.8.13"
  }
 },
 "nbformat": 4,
 "nbformat_minor": 5
}
